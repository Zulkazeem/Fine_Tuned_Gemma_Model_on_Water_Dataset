{
 "cells": [
  {
   "cell_type": "markdown",
   "metadata": {
    "id": "wxMjv4Xg3ZXj"
   },
   "source": [
    "Import libraries"
   ]
  },
  {
   "cell_type": "code",
   "execution_count": 1,
   "metadata": {
    "colab": {
     "base_uri": "https://localhost:8080/"
    },
    "id": "0EDnGGyr4D7t",
    "outputId": "ae844b69-c059-4f7f-9956-1ac3ff1256f7"
   },
   "outputs": [
    {
     "name": "stdout",
     "output_type": "stream",
     "text": [
      "Requirement already satisfied: faker in c:\\users\\yomid\\anaconda3\\lib\\site-packages (28.4.1)\n",
      "Requirement already satisfied: python-dateutil>=2.4 in c:\\users\\yomid\\anaconda3\\lib\\site-packages (from faker) (2.8.2)\n",
      "Requirement already satisfied: six>=1.5 in c:\\users\\yomid\\anaconda3\\lib\\site-packages (from python-dateutil>=2.4->faker) (1.16.0)\n"
     ]
    }
   ],
   "source": [
    "!pip install faker"
   ]
  },
  {
   "cell_type": "code",
   "execution_count": 2,
   "metadata": {
    "id": "4EUiDn25VVeO"
   },
   "outputs": [],
   "source": [
    "import os\n",
    "import json\n",
    "import pandas as pd\n",
    "import numpy as np\n",
    "from faker import Faker\n",
    "from datetime import datetime, timedelta, time\n",
    "import random\n",
    "import re\n",
    "\n",
    "fake = Faker()"
   ]
  },
  {
   "cell_type": "code",
   "execution_count": 3,
   "metadata": {
    "id": "65L6jOmiRlyE"
   },
   "outputs": [],
   "source": [
    "# Define the folder path\n",
    "folder_path = r\"C:\\Users\\yomid\\OneDrive - Case Western Reserve University\\Desktop\\KaggleX\\data_trial\"\n",
    "\n",
    "# Ensure the folder exists\n",
    "os.makedirs(folder_path, exist_ok=True)"
   ]
  },
  {
   "cell_type": "code",
   "execution_count": 4,
   "metadata": {
    "id": "Jt1re19oRs6r"
   },
   "outputs": [],
   "source": [
    "# Define equipment types and their characteristics (as before)\n",
    "equipment_types = {\n",
    "    'Bar Screen': {'lifespan': 15, 'maintenance_interval': 30, 'failure_rate': 0.005},\n",
    "    'Grit Chamber': {'lifespan': 20, 'maintenance_interval': 60, 'failure_rate': 0.003},\n",
    "    'Primary Clarifier': {'lifespan': 30, 'maintenance_interval': 90, 'failure_rate': 0.002},\n",
    "    'Aeration Tank': {'lifespan': 25, 'maintenance_interval': 45, 'failure_rate': 0.004},\n",
    "    'Secondary Clarifier': {'lifespan': 30, 'maintenance_interval': 90, 'failure_rate': 0.002},\n",
    "    'Activated Sludge System': {'lifespan': 20, 'maintenance_interval': 30, 'failure_rate': 0.006},\n",
    "    'Trickling Filter': {'lifespan': 25, 'maintenance_interval': 60, 'failure_rate': 0.003},\n",
    "    'Membrane Bioreactor': {'lifespan': 15, 'maintenance_interval': 30, 'failure_rate': 0.007},\n",
    "    'Sand Filter': {'lifespan': 20, 'maintenance_interval': 45, 'failure_rate': 0.004},\n",
    "    'UV Disinfection Unit': {'lifespan': 10, 'maintenance_interval': 30, 'failure_rate': 0.005},\n",
    "    'Chemical Treatment System': {'lifespan': 15, 'maintenance_interval': 30, 'failure_rate': 0.004},\n",
    "    'Sludge Thickener': {'lifespan': 20, 'maintenance_interval': 60, 'failure_rate': 0.003},\n",
    "    'Anaerobic Digester': {'lifespan': 25, 'maintenance_interval': 90, 'failure_rate': 0.002},\n",
    "    'Centrifuge': {'lifespan': 15, 'maintenance_interval': 45, 'failure_rate': 0.005},\n",
    "    'Reverse Osmosis System': {'lifespan': 10, 'maintenance_interval': 30, 'failure_rate': 0.006},\n",
    "    'Activated Carbon Filter': {'lifespan': 5, 'maintenance_interval': 60, 'failure_rate': 0.003},\n",
    "    'Lift Station': {'lifespan': 25, 'maintenance_interval': 60, 'failure_rate': 0.004},\n",
    "}"
   ]
  },
  {
   "cell_type": "code",
   "execution_count": 5,
   "metadata": {
    "id": "VAeolBY0SkdD"
   },
   "outputs": [],
   "source": [
    "# equipment_parts\n",
    "equipment_parts = {\n",
    "    'Bar Screen': ['Motor', 'Screen bars', 'Scraper arms', 'Chain drive', 'Bearings', 'Gearbox'],\n",
    "    'Grit Chamber': ['Grit pump', 'Air diffusers', 'Screw conveyor', 'Valves', 'Bearings', 'Piping'],\n",
    "    'Primary Clarifier': ['Sludge scraper mechanism', 'Drive motor', 'Gearbox', 'Skimmer arm', 'Chain and sprockets', 'Bearings'],\n",
    "    'Aeration Tank': ['Diffusers', 'Blowers', 'Valves', 'Air piping', 'Motors and fans', 'Membranes'],\n",
    "    'Secondary Clarifier': ['Sludge removal mechanisms', 'Drive motors', 'Skimmer blades', 'Gearbox', 'Bearings', 'Chains and sprockets'],\n",
    "    'Activated Sludge System': ['Aeration diffusers', 'Blowers', 'Pumps', 'Valves', 'Sensors', 'Motors'],\n",
    "    'Trickling Filter': ['Distribution arms', 'Filter media', 'Spray nozzles', 'Pumps', 'Valves', 'Bearings'],\n",
    "    'Membrane Bioreactor': ['Membranes', 'Permeate pump', 'Valves', 'Air diffusers', 'Blowers', 'Membrane cleaning system parts'],\n",
    "    'Sand Filter': ['Filter media', 'Backwash pumps', 'Valves', 'Piping', 'Flow meters', 'Sensors'],\n",
    "    'UV Disinfection Unit': ['UV lamps', 'Quartz sleeves', 'Ballasts', 'Power supplies', 'Sensors', 'Wipers'],\n",
    "    'Chemical Treatment System': ['Chemical dosing pumps', 'Valves', 'Mixing tanks', 'Sensors', 'Injection nozzles', 'Tubing and piping'],\n",
    "    'Sludge Thickener': ['Drive motors', 'Scrapers', 'Bearings', 'Gearboxes', 'Pumps', 'Valves'],\n",
    "    'Anaerobic Digester': ['Mixing systems', 'Gas blowers', 'Heat exchangers', 'Valves', 'Pumps', 'Pressure relief valves'],\n",
    "    'Centrifuge': ['Bearings', 'Drive belts', 'Feed pumps', 'Bowl and scroll assembly', 'Gearbox', 'Seals'],\n",
    "    'Reverse Osmosis System': ['Membranes', 'Feed pumps', 'Pressure vessels', 'Valves', 'O-rings and gaskets', 'Sensors'],\n",
    "    'Activated Carbon Filter': ['Filter media', 'Pumps', 'Valves', 'Backwash system components', 'Piping', 'Flow meters'],\n",
    "    'Lift Station': ['Pumps', 'Valves', 'Level sensors', 'Float switches', 'Control panels', 'Bearings']\n",
    "}"
   ]
  },
  {
   "cell_type": "code",
   "execution_count": 6,
   "metadata": {
    "id": "Ze54uCNkR09x"
   },
   "outputs": [],
   "source": [
    " #Define realistic actions for each type of maintenance\n",
    "routine_maintenance_actions = [\n",
    "    \"Inspected equipment for wear and tear.\",\n",
    "    \"Lubricated moving parts to ensure smooth operation.\",\n",
    "    \"Tightened all bolts and fasteners.\",\n",
    "    \"Replaced air filters and checked system airflow.\",\n",
    "    \"Calibrated sensors to ensure accurate readings.\",\n",
    "    \"Cleaned sediment from filters and chambers.\",\n",
    "    \"Checked for leaks and repaired minor cracks.\",\n",
    "    \"Replaced worn-out gaskets and seals.\",\n",
    "    \"Flushed system to remove debris buildup.\",\n",
    "    \"Tested performance metrics and adjusted settings.\",\n",
    "    \"Replaced worn belts and hoses.\",\n",
    "    \"Cleaned and aligned drive chains.\",\n",
    "    \"Performed system diagnostics and recalibrated equipment.\",\n",
    "    \"Tested alarm and safety systems for functionality.\",\n",
    "    \"Checked and refilled hydraulic fluid.\",\n",
    "    \"Cleared blockages from intake valves.\",\n",
    "    \"Replaced faulty pressure sensors.\",\n",
    "    \"Tightened or replaced loose fittings and connections.\",\n",
    "    \"Checked for abnormal vibrations in rotating equipment.\",\n",
    "    \"Reprogrammed system software for optimal performance.\"\n",
    "    \"Inspected and cleaned UV lamps for optimal performance.\",\n",
    "    \"Checked and adjusted pH levels in treatment tanks.\",\n",
    "    \"Replaced worn-out bearings in rotating equipment.\",\n",
    "    \"Tested backup generators to ensure readiness.\",\n",
    "    \"Cleaned and inspected sludge dewatering equipment.\",\n",
    "    \"Checked and calibrated flow meters.\",\n",
    "    \"Inspected and cleaned aeration diffusers.\",\n",
    "    \"Replaced worn-out impellers in pumps.\",\n",
    "    \"Checked and cleaned chemical dosing systems.\",\n",
    "    \"Inspected and tightened electrical connections.\",\n",
    "    \"Tested and adjusted chemical feed pumps.\",\n",
    "    \"Cleaned and inspected grit removal systems.\",\n",
    "    \"Checked and replaced worn-out seals in valves.\",\n",
    "    \"Inspected and cleaned scum removal equipment.\",\n",
    "    \"Tested and calibrated dissolved oxygen sensors.\",\n",
    "    \"Checked and cleaned level sensors in tanks.\",\n",
    "    \"Inspected and lubricated gearboxes.\",\n",
    "    \"Checked and adjusted blower systems.\",\n",
    "    \"Cleaned and inspected heat exchangers.\",\n",
    "    \"Tested and adjusted sludge blanket levels.\"\n",
    "]\n",
    "\n",
    "emergency_repair_actions = [\n",
    "    \"Repaired broken pump due to motor failure.\",\n",
    "    \"Replaced damaged filter cartridge caused by system overload.\",\n",
    "    \"Fixed electrical wiring issue leading to system shutdown.\",\n",
    "    \"Replaced cracked housing on UV Disinfection Unit.\",\n",
    "    \"Repaired leaking valve in aeration system.\",\n",
    "    \"Replaced motor on Centrifuge after overheating.\",\n",
    "    \"Repaired mechanical failure in Lift Station pump.\",\n",
    "    \"Emergency repair of membrane in Membrane Bioreactor.\",\n",
    "    \"Replaced burnt-out fuse causing equipment to malfunction.\",\n",
    "    \"Performed immediate repairs on a cracked pipe.\",\n",
    "    \"Replaced damaged fan blades in the cooling system.\",\n",
    "    \"Sealed a major leak in the chemical treatment system.\",\n",
    "    \"Replaced malfunctioning PLC module.\",\n",
    "    \"Repaired corroded electrical connections.\",\n",
    "    \"Replaced faulty relay switch causing intermittent shutdowns.\",\n",
    "    \"Repaired malfunctioning flow meters.\",\n",
    "    \"Rebuilt motor drive system after critical failure.\",\n",
    "    \"Fixed broken pressure relief valve.\"\n",
    "    \"Replaced failed blower motor causing aeration system shutdown.\",\n",
    "    \"Fixed burst pipe in sludge transfer line.\",\n",
    "    \"Repaired malfunctioning chemical dosing pump.\",\n",
    "    \"Replaced damaged control panel due to electrical surge.\",\n",
    "    \"Fixed broken agitator in mixing tank.\",\n",
    "    \"Repaired leaking gasket in high-pressure pump.\",\n",
    "    \"Replaced burnt-out UV lamp in disinfection unit.\",\n",
    "    \"Fixed jammed conveyor belt in sludge handling system.\",\n",
    "    \"Repaired cracked tank wall in primary clarifier.\",\n",
    "    \"Replaced faulty PLC module causing system errors.\",\n",
    "    \"Fixed broken drive shaft in aeration blower.\",\n",
    "    \"Repaired damaged float switch in lift station.\",\n",
    "    \"Replaced failed solenoid valve in chemical feed system.\",\n",
    "    \"Fixed broken impeller in recirculation pump.\",\n",
    "    \"Repaired leaking flange in effluent discharge line.\",\n",
    "    \"Replaced damaged motor starter in control panel.\",\n",
    "    \"Fixed broken chain in grit removal system.\",\n",
    "    \"Repaired malfunctioning level sensor in digester.\",\n",
    "    \"Replaced failed pressure relief valve in sludge system.\",\n",
    "    \"Fixed broken coupling in aeration blower.\"\n",
    "]\n",
    "\n",
    "inspection_actions = [\n",
    "    \"Completed routine inspection of equipment.\",\n",
    "    \"Checked sensor readings for accuracy.\",\n",
    "    \"Inspected for any signs of corrosion or damage.\",\n",
    "    \"Performed safety check on all electrical connections.\",\n",
    "    \"Tested emergency shutdown system functionality.\",\n",
    "    \"Checked fluid levels and replenished as needed.\",\n",
    "    \"Reviewed equipment logs for irregularities.\",\n",
    "    \"Conducted visual inspection for any loose connections.\",\n",
    "    \"Tested pH levels in water treatment system.\",\n",
    "    \"Reviewed recent equipment performance logs for anomalies.\",\n",
    "    \"Inspected filter cartridges for clogs or damage.\",\n",
    "    \"Verified calibration of pressure and flow sensors.\",\n",
    "    \"Checked alignment of drive shafts and pumps.\",\n",
    "    \"Reviewed backup system readiness in case of failure.\",\n",
    "    \"Checked for excessive heat generation in electrical panels.\",\n",
    "    \"Confirmed air pressure levels in pneumatic systems.\",\n",
    "    \"Verified system alarms and communication systems are functioning properly.\"\n",
    "    \"Visually inspected all tanks for signs of corrosion or damage.\",\n",
    "    \"Checked all pumps for abnormal noise or vibration.\",\n",
    "    \"Inspected electrical panels for signs of overheating or loose connections.\",\n",
    "    \"Reviewed system logs for any unusual activity or error messages.\",\n",
    "    \"Checked all valves for leaks or signs of wear.\",\n",
    "    \"Inspected aeration system for proper operation and airflow.\",\n",
    "    \"Checked chemical storage tanks for leaks or contamination.\",\n",
    "    \"Inspected UV disinfection units for proper operation and cleanliness.\",\n",
    "    \"Checked all sensors for accurate readings and recalibrated if necessary.\",\n",
    "    \"Inspected sludge handling equipment for blockages or wear.\",\n",
    "    \"Checked all safety equipment for proper operation and readiness.\",\n",
    "    \"Inspected piping for signs of leaks or damage.\",\n",
    "    \"Checked all motors and gearboxes for proper lubrication and operation.\",\n",
    "    \"Inspected heat exchangers for signs of fouling or leaks.\",\n",
    "    \"Checked all alarms and emergency systems for proper operation.\",\n",
    "     \"Inspected grit removal systems for blockages or wear.\",\n",
    "    \"Checked all flow meters for accurate readings and recalibrated if necessary.\",\n",
    "    \"Inspected chemical dosing pumps for proper operation and leaks.\",\n",
    "    \"Checked all filters for debris buildup and cleaned or replaced as necessary.\",\n",
    "    \"Inspected all drive chains and belts for proper tension and wear.\"\n",
    "]"
   ]
  },
  {
   "cell_type": "code",
   "execution_count": 7,
   "metadata": {
    "id": "8qQrASVFR1jK"
   },
   "outputs": [],
   "source": [
    "emergency_repair_notes = [\n",
    "    \"Repaired broken pump due to motor failure. Pump tested and returned to normal operation.\",\n",
    "    \"Replaced damaged filter cartridge caused by system overload. System performance restored.\",\n",
    "    \"Fixed electrical wiring issue leading to system shutdown. System restarted without issues.\",\n",
    "    \"Replaced cracked housing on UV Disinfection Unit. Resumed normal operations after testing.\",\n",
    "    \"Repaired leaking valve in aeration system. Leak stopped, system operating at optimal levels.\",\n",
    "    \"Replaced motor on Centrifuge after overheating. Equipment tested for heat tolerance post-repair.\",\n",
    "    \"Repaired mechanical failure in Lift Station pump. Pump back online and functioning properly.\",\n",
    "    \"Emergency repair of membrane in Membrane Bioreactor. Checked and confirmed proper filtration.\",\n",
    "    \"Replaced burnt-out fuse causing equipment to malfunction. Fuse box inspected for additional damage.\",\n",
    "    \"Performed immediate repairs on a cracked pipe. Water flow restored and checked for further leaks.\",\n",
    "    \"Replaced damaged fan blades in the cooling system. Tested cooling efficiency post-repair.\",\n",
    "    \"Sealed a major leak in the chemical treatment system. Chemical levels stabilized after fix.\",\n",
    "    \"Replaced malfunctioning PLC module. System reprogrammed and operational after repairs.\",\n",
    "    \"Repaired corroded electrical connections. Inspected other connections for early signs of corrosion.\",\n",
    "    \"Replaced faulty relay switch causing intermittent shutdowns. Continuous operation verified.\",\n",
    "    \"Repaired malfunctioning flow meters. Flow readings back within acceptable ranges.\",\n",
    "    \"Rebuilt motor drive system after critical failure. Motor functioning well post-repair.\",\n",
    "    \"Fixed broken pressure relief valve. Pressure levels normalized after the repair.\",\n",
    "    \"Blower motor replaced due to failure. Aeration system back online.\",\n",
    "    \"Burst pipe in sludge transfer line fixed. System operating normally.\",\n",
    "    \"Chemical dosing pump repaired. No further issues detected.\",\n",
    "    \"Control panel replaced after electrical surge. System functioning properly.\",\n",
    "    \"Agitator in mixing tank fixed. No further malfunctions.\",\n",
    "    \"Leaking gasket in high-pressure pump repaired. No leaks detected.\",\n",
    "    \"Burnt-out UV lamp replaced. Disinfection unit operational.\",\n",
    "    \"Jammed conveyor belt in sludge handling system fixed. Operating smoothly.\",\n",
    "    \"Cracked tank wall in primary clarifier repaired. No further issues.\",\n",
    "    \"Faulty PLC module replaced. System errors resolved.\",\n",
    "    \"Broken drive shaft in aeration blower fixed. System back online.\",\n",
    "    \"Damaged float switch in lift station repaired. Functioning properly.\",\n",
    "    \"Failed solenoid valve in chemical feed system replaced. No further issues.\",\n",
    "    \"Broken impeller in recirculation pump fixed. System operating normally.\",\n",
    "    \"Leaking flange in effluent discharge line repaired. No leaks detected.\",\n",
    "     \"Damaged motor starter in control panel replaced. System functioning properly.\",\n",
    "    \"Broken chain in grit removal system fixed. Operating smoothly.\",\n",
    "    \"Malfunctioning level sensor in digester repaired. Accurate readings.\",\n",
    "    \"Failed pressure relief valve in sludge system replaced. No further issues.\",\n",
    "    \"Broken coupling in aeration blower fixed. System back online.\"\n",
    "]\n",
    "\n",
    "routine_maintenance_notes = [\n",
    "    \"Inspected equipment for wear and tear. No significant issues detected; equipment is in good condition.\",\n",
    "    \"Lubricated moving parts to ensure smooth operation. Reduced friction and noise levels; operation is quieter.\",\n",
    "    \"Tightened all bolts and fasteners. No loose components were found; equipment stability improved.\",\n",
    "    \"Replaced air filters and checked system airflow. Airflow optimized; replaced filters were significantly clogged.\",\n",
    "    \"Calibrated sensors to ensure accurate readings. Sensors are now providing accurate and consistent data.\",\n",
    "    \"Cleaned sediment from filters and chambers. Improved filtration efficiency; system performance enhanced.\",\n",
    "    \"Checked for leaks and repaired minor cracks. All leaks fixed; system pressure and performance stabilized.\",\n",
    "    \"Replaced worn-out gaskets and seals. Sealed components effectively; prevented future leaks.\",\n",
    "    \"Flushed system to remove debris buildup. Flow rate improved; system free of obstructions.\",\n",
    "    \"Tested performance metrics and adjusted settings. Performance metrics within optimal ranges; settings fine-tuned.\",\n",
    "    \"Replaced worn belts and hoses. Equipment now operates smoothly without slipping or leaks.\",\n",
    "    \"Cleaned and aligned drive chains. Improved power transmission and reduced noise; alignment verified.\",\n",
    "    \"Performed system diagnostics and recalibrated equipment. Equipment functioning correctly with updated diagnostics.\",\n",
    "    \"Tested alarm and safety systems for functionality. All systems operational; no faults detected.\",\n",
    "    \"Checked and refilled hydraulic fluid. Fluid levels are now at optimal levels; system pressure restored.\",\n",
    "    \"Cleared blockages from intake valves. Increased intake efficiency; system running at full capacity.\",\n",
    "    \"Replaced faulty pressure sensors. Sensors are now accurate; system pressure readings are reliable.\",\n",
    "    \"Tightened or replaced loose fittings and connections. No further leaks or operational issues observed.\",\n",
    "    \"Checked for abnormal vibrations in rotating equipment. Vibration levels normal; no imbalance detected.\",\n",
    "    \"Reprogrammed system software for optimal performance. Software updated and running efficiently; performance improved.\",\n",
    "    \"UV lamps inspected and cleaned. No signs of wear or damage.\",\n",
    "    \"pH levels checked and adjusted. All readings within acceptable range.\",\n",
    "    \"Bearings in rotating equipment replaced. No further issues detected.\",\n",
    "    \"Backup generators tested and ready. No faults found.\",\n",
    "    \"Sludge dewatering equipment cleaned and inspected. Operating normally.\",\n",
    "    \"Flow meters checked and calibrated. Readings accurate.\",\n",
    "    \"Aeration diffusers inspected and cleaned. No blockages found.\",\n",
    "    \"Impellers in pumps replaced. System functioning optimally.\",\n",
    "    \"Chemical dosing systems checked and cleaned. No issues detected.\",\n",
    "    \"Electrical connections inspected and tightened. All secure.\",\n",
    "    \"Chemical feed pumps tested and adjusted. Operating within parameters.\",\n",
    "    \"Grit removal systems cleaned and inspected. No debris buildup.\",\n",
    "    \"Seals in valves checked and replaced. No leaks detected.\",\n",
    "    \"Scum removal equipment inspected and cleaned. Functioning properly.\",\n",
    "    \"Dissolved oxygen sensors tested and calibrated. Accurate readings.\",\n",
    "    \"Level sensors in tanks checked and cleaned. No issues found.\",\n",
    "    \"Gearboxes inspected and lubricated. Operating smoothly.\",\n",
    "    \"Blower systems checked and adjusted. No abnormalities detected.\",\n",
    "    \"Heat exchangers cleaned and inspected. No signs of wear.\",\n",
    "    \"Sludge blanket levels tested and adjusted. Within optimal range.\"\n",
    "]\n",
    "\n",
    "inspection_notes = [\n",
    "    \"Completed routine inspection of equipment. All units are operating within normal parameters; no immediate issues detected.\",\n",
    "    \"Checked sensor readings for accuracy. Readings are accurate; recalibration is not required at this time.\",\n",
    "    \"Inspected for any signs of corrosion or damage. Minor corrosion found on metal parts; scheduled for cleaning and treatment.\",\n",
    "    \"Performed safety check on all electrical connections. Connections are secure; no safety hazards identified.\",\n",
    "    \"Tested emergency shutdown system functionality. System tested successfully; emergency shutdown is operational.\",\n",
    "    \"Checked fluid levels and replenished as needed. Fluid levels are optimal; no leaks or deficiencies found.\",\n",
    "    \"Reviewed equipment logs for irregularities. Logs show normal operation; no irregularities detected.\",\n",
    "    \"Conducted visual inspection for any loose connections. All connections are tight and secure; no maintenance required.\",\n",
    "    \"Tested pH levels in water treatment system. pH levels are within the acceptable range; no action required.\",\n",
    "    \"Reviewed recent equipment performance logs for anomalies. Performance is consistent with expected norms; no anomalies found.\",\n",
    "    \"Inspected filter cartridges for clogs or damage. Cartridges are clean with minimal debris; replaced as a precaution.\",\n",
    "    \"Verified calibration of pressure and flow sensors. Sensors are properly calibrated; readings are within expected ranges.\",\n",
    "    \"Checked alignment of drive shafts and pumps. Alignment is correct; no signs of misalignment or wear.\",\n",
    "    \"Reviewed backup system readiness in case of failure. Backup systems are functional and ready for use if needed.\",\n",
    "    \"Checked for excessive heat generation in electrical panels. No excessive heat detected; panels are operating within safe temperatures.\",\n",
    "    \"Confirmed air pressure levels in pneumatic systems. Air pressure is within optimal range; systems are functioning correctly.\",\n",
    "    \"Verified system alarms and communication systems are functioning properly. All alarms and communication systems are operational with no faults.\",\n",
    "     \"Tanks visually inspected. No signs of corrosion or damage detected.\",\n",
    "    \"Pumps checked. No abnormal noise or vibration observed.\",\n",
    "    \"Electrical panels inspected. No signs of overheating or loose connections.\",\n",
    "    \"System logs reviewed. No unusual activity or error messages found.\",\n",
    "    \"Valves checked. No leaks or signs of wear detected.\",\n",
    "    \"Aeration system inspected. Proper operation and airflow confirmed.\",\n",
    "    \"Chemical storage tanks checked. No leaks or contamination detected.\",\n",
    "    \"UV disinfection units inspected. Proper operation and cleanliness confirmed.\",\n",
    "    \"Sensors checked. Accurate readings, no recalibration needed.\",\n",
    "    \"Sludge handling equipment inspected. No blockages or wear detected.\",\n",
    "    \"Safety equipment checked. All systems operational and ready.\",\n",
    "    \"Piping inspected. No signs of leaks or damage detected.\",\n",
    "    \"Motors and gearboxes checked. Proper lubrication and operation confirmed.\",\n",
    "    \"Heat exchangers inspected. No signs of fouling or leaks detected.\",\n",
    "    \"Alarms and emergency systems checked. All systems operational.\",\n",
    "    \"Grit removal systems inspected. No blockages or wear detected.\",\n",
    "    \"Flow meters checked. Accurate readings, no recalibration needed.\",\n",
    "    \"Chemical dosing pumps inspected. Proper operation and no leaks detected.\",\n",
    "    \"Filters checked. Minor debris buildup, cleaned and replaced as necessary.\",\n",
    "    \"Drive chains and belts inspected. Proper tension and no wear detected.\"\n",
    "]"
   ]
  },
  {
   "cell_type": "code",
   "execution_count": 8,
   "metadata": {
    "id": "B_HQAJ73ZMve"
   },
   "outputs": [],
   "source": [
    "def get_relevant_parts(equipment_type, action, num_parts=3):\n",
    "\n",
    "    all_parts = equipment_parts[equipment_type]\n",
    "    action_words = set(re.findall(r'\\b\\w+\\b', action.lower()))\n",
    "\n",
    "    # First, get parts that match the action\n",
    "    relevant_parts = [part for part in all_parts if any(word in part.lower() for word in action_words)]\n",
    "\n",
    "    # If we don't have enough relevant parts, add random parts from the equipment\n",
    "    while len(relevant_parts) < num_parts and len(relevant_parts) < len(all_parts):\n",
    "        random_part = random.choice(all_parts)\n",
    "        if random_part not in relevant_parts:\n",
    "            relevant_parts.append(random_part)\n",
    "\n",
    "    return relevant_parts[:num_parts]"
   ]
  },
  {
   "cell_type": "code",
   "execution_count": 9,
   "metadata": {
    "id": "LtEX-C3yZvym"
   },
   "outputs": [],
   "source": [
    "def create_action_note_pairs(actions, notes):\n",
    "    pairs = []\n",
    "    for action in actions:\n",
    "        best_match = max(notes, key=lambda note: len(set(action.lower().split()) & set(note.lower().split())))\n",
    "        pairs.append((action, best_match))\n",
    "    return pairs\n",
    "\n",
    "routine_maintenance_pairs = create_action_note_pairs(routine_maintenance_actions, routine_maintenance_notes)\n",
    "emergency_repair_pairs = create_action_note_pairs(emergency_repair_actions, emergency_repair_notes)\n",
    "inspection_pairs = create_action_note_pairs(inspection_actions, inspection_notes)"
   ]
  },
  {
   "cell_type": "code",
   "execution_count": 10,
   "metadata": {
    "id": "Uvlsrv55h_pE"
   },
   "outputs": [],
   "source": [
    "import random\n",
    "from datetime import datetime, time\n",
    "\n",
    "def create_observation(equipment, maintenance_type, date):\n",
    "    work_order_id = str(fake.uuid4())\n",
    "    maintenance_log_id = str(fake.uuid4())\n",
    "    status_report_id = str(fake.uuid4())\n",
    "\n",
    "    if maintenance_type == 'Routine Maintenance':\n",
    "        action, note = random.choice(routine_maintenance_pairs)\n",
    "    elif maintenance_type == 'Emergency Repair':\n",
    "        action, note = random.choice(emergency_repair_pairs)\n",
    "    else:  # Inspection\n",
    "        action, note = random.choice(inspection_pairs)\n",
    "\n",
    "    relevant_parts = get_relevant_parts(equipment['type'], action)\n",
    "    parts_used = ', '.join(relevant_parts) if relevant_parts else 'No specific parts'\n",
    "\n",
    "    # Generate a random time\n",
    "    random_time = time(random.randint(0, 23), random.randint(0, 59), random.randint(0, 59))\n",
    "\n",
    "    # Combine date and random time\n",
    "    timestamp = datetime.combine(date, random_time)\n",
    "\n",
    "    # Format timestamp to include a space instead of 'T'\n",
    "    formatted_timestamp = timestamp.strftime(\"%Y-%m-%d %H:%M:%S\")\n",
    "\n",
    "    return {\n",
    "        'work_order_id': work_order_id,\n",
    "        'equipment_id': equipment['id'],\n",
    "        'maintenance_log_id': maintenance_log_id,\n",
    "        'status_report_id': status_report_id,\n",
    "        'timestamp': formatted_timestamp,  # Use the formatted timestamp\n",
    "        'technician': fake.name(),\n",
    "        'maintenance_type': maintenance_type,\n",
    "        'action_taken': action,\n",
    "        'parts_used': parts_used,\n",
    "        'notes': note,\n",
    "        'equipment_name': equipment['name'],\n",
    "        'equipment_type': equipment['type'],\n",
    "        'equipment_status': equipment['status'],\n",
    "        'performance_metric': round(random.uniform(0.7, 1.0), 2)\n",
    "    }"
   ]
  },
  {
   "cell_type": "code",
   "execution_count": 11,
   "metadata": {
    "id": "vUpkCNn8TclM"
   },
   "outputs": [],
   "source": [
    "def generate_data(num_equipment, start_date, end_date, target_observations):\n",
    "    combined_data = []\n",
    "    total_observations = 0\n",
    "\n",
    "    start_date = datetime.combine(start_date, datetime.min.time())\n",
    "    end_date = datetime.combine(end_date, datetime.min.time())\n",
    "\n",
    "    for _ in range(num_equipment):\n",
    "        equip_type = random.choice(list(equipment_types.keys()))\n",
    "        equipment = {\n",
    "            'id': str(fake.uuid4()),\n",
    "            'name': f\"{equip_type}-{fake.random_int(min=1000, max=999999)}\",\n",
    "            'type': equip_type,\n",
    "            'installation_date': fake.date_between(start_date='-100y', end_date='-1y'),\n",
    "            'last_maintenance': fake.date_between(start_date='-1y', end_date='today'),\n",
    "            'status': random.choices(['Operational', 'Needs Maintenance', 'Under Repair'], weights=[0.8, 0.15, 0.05])[0]\n",
    "        }\n",
    "\n",
    "        maintenance_date = datetime.combine(equipment['last_maintenance'], datetime.min.time())\n",
    "        while maintenance_date <= end_date:\n",
    "            if maintenance_date >= start_date:\n",
    "                # Routine Maintenance\n",
    "                observation = create_observation(equipment, 'Routine Maintenance', maintenance_date)\n",
    "                combined_data.append(observation)\n",
    "                total_observations += 1\n",
    "\n",
    "                # Inspection (50% chance)\n",
    "                if random.random() < 0.5:\n",
    "                    inspection_observation = create_observation(equipment, 'Inspection', maintenance_date)\n",
    "                    combined_data.append(inspection_observation)\n",
    "                    total_observations += 1\n",
    "\n",
    "            maintenance_date += timedelta(days=equipment_types[equipment['type']]['maintenance_interval'])\n",
    "\n",
    "        # Emergency repairs\n",
    "        current_date = start_date\n",
    "        while current_date <= end_date:\n",
    "            if random.random() < equipment_types[equipment['type']]['failure_rate']:\n",
    "                emergency_observation = create_observation(equipment, 'Emergency Repair', current_date)\n",
    "                combined_data.append(emergency_observation)\n",
    "                total_observations += 1\n",
    "\n",
    "            current_date += timedelta(days=1)\n",
    "\n",
    "        if total_observations >= target_observations:\n",
    "            break\n",
    "\n",
    "    return combined_data, total_observations"
   ]
  },
  {
   "cell_type": "code",
   "execution_count": 12,
   "metadata": {
    "id": "OLJAXPDBTfvA"
   },
   "outputs": [],
   "source": [
    "# Main execution\n",
    "num_equipment = 1000\n",
    "start_date = datetime(1700, 1, 1)\n",
    "end_date = datetime(2024, 5, 31)\n",
    "target_observations = 1000000"
   ]
  },
  {
   "cell_type": "code",
   "execution_count": 13,
   "metadata": {
    "colab": {
     "base_uri": "https://localhost:8080/"
    },
    "id": "8WzfmCAnThYu",
    "outputId": "a2a373cc-abcb-4a24-8126-e36ba30d424f"
   },
   "outputs": [
    {
     "name": "stdout",
     "output_type": "stream",
     "text": [
      "Generating data...\n",
      "Total observations generated: 470580\n"
     ]
    }
   ],
   "source": [
    "print(\"Generating data...\")\n",
    "combined_data, total_observations = generate_data(num_equipment, start_date, end_date, target_observations)\n",
    "\n",
    "print(f\"Total observations generated: {total_observations}\")"
   ]
  },
  {
   "cell_type": "code",
   "execution_count": 14,
   "metadata": {
    "colab": {
     "base_uri": "https://localhost:8080/"
    },
    "id": "4eMlzXd4Ti2y",
    "outputId": "cc26157e-33d5-43dc-f0cd-4c731c354796"
   },
   "outputs": [
    {
     "name": "stdout",
     "output_type": "stream",
     "text": [
      "Combined JSON data saved to: C:\\Users\\yomid\\OneDrive - Case Western Reserve University\\Desktop\\KaggleX\\data_trial\\wastewater_treatment_data.json\n"
     ]
    }
   ],
   "source": [
    "# Save the combined JSON file\n",
    "json_file_path = os.path.join(folder_path, 'wastewater_treatment_data.json')\n",
    "with open(json_file_path, 'w') as f:\n",
    "    json.dump(combined_data, f, default=str, indent=2)\n",
    "\n",
    "print(f\"Combined JSON data saved to: {json_file_path}\")\n"
   ]
  },
  {
   "cell_type": "code",
   "execution_count": 15,
   "metadata": {
    "colab": {
     "base_uri": "https://localhost:8080/"
    },
    "id": "_QsWro3xTo-5",
    "outputId": "782358df-24a3-4e4f-b90f-4899b4f16205"
   },
   "outputs": [
    {
     "name": "stdout",
     "output_type": "stream",
     "text": [
      "CSV file saved in the specified folder.\n"
     ]
    }
   ],
   "source": [
    "# Save individual CSV files\n",
    "pd.DataFrame(combined_data).to_csv(os.path.join(folder_path, 'wastewater_treatment_data.csv'), index=False)\n",
    "\n",
    "print(\"CSV file saved in the specified folder.\")"
   ]
  },
  {
   "cell_type": "code",
   "execution_count": 16,
   "metadata": {
    "colab": {
     "base_uri": "https://localhost:8080/"
    },
    "id": "DucCyD1HVTRb",
    "outputId": "a5531c3e-c8d1-4126-f503-da29de3847b7"
   },
   "outputs": [
    {
     "name": "stdout",
     "output_type": "stream",
     "text": [
      "CSV files saved in the specified folder.\n"
     ]
    }
   ],
   "source": [
    "# Separate the data into different categories\n",
    "'''\n",
    "The several data categories are saved into individual CSV files before being merged together.\n",
    "'''\n",
    "equipment_data = []\n",
    "work_orders_data = []\n",
    "maintenance_logs_data = []\n",
    "status_reports_data = []\n",
    "\n",
    "for item in combined_data:\n",
    "    equipment_data.append({\n",
    "        'id': item['equipment_id'],\n",
    "        'name': item['equipment_name'],\n",
    "        'type': item['equipment_type'],\n",
    "        'status': item['equipment_status']\n",
    "    })\n",
    "    work_orders_data.append({\n",
    "        'id': item['work_order_id'],\n",
    "        'equipment_id': item['equipment_id'],\n",
    "        'timestamp': item['timestamp'],\n",
    "        'maintenance_type': item['maintenance_type']\n",
    "    })\n",
    "    maintenance_logs_data.append({\n",
    "        'id': item['maintenance_log_id'],\n",
    "        'work_order_id': item['work_order_id'],\n",
    "        'technician': item['technician'],\n",
    "        'action_taken': item['action_taken'],\n",
    "        'parts_used': item['parts_used'],\n",
    "        'notes': item['notes']\n",
    "    })\n",
    "    status_reports_data.append({\n",
    "        'id': item['status_report_id'],\n",
    "        'equipment_id': item['equipment_id'],\n",
    "        'timestamp': item['timestamp'],\n",
    "        'performance_metric': item['performance_metric']\n",
    "    })\n",
    "\n",
    "# Save separate CSV files\n",
    "pd.DataFrame(equipment_data).to_csv(os.path.join(folder_path, 'equipment.csv'), index=False)\n",
    "pd.DataFrame(work_orders_data).to_csv(os.path.join(folder_path, 'work_orders.csv'), index=False)\n",
    "pd.DataFrame(maintenance_logs_data).to_csv(os.path.join(folder_path, 'maintenance_logs.csv'), index=False)\n",
    "pd.DataFrame(status_reports_data).to_csv(os.path.join(folder_path, 'status_reports.csv'), index=False)\n",
    "\n",
    "print(\"CSV files saved in the specified folder.\")"
   ]
  },
  {
   "cell_type": "markdown",
   "metadata": {
    "id": "tkXq69VjcK7x"
   },
   "source": [
    "Fine_Tuned_Dataset"
   ]
  },
  {
   "cell_type": "code",
   "execution_count": 17,
   "metadata": {
    "id": "Ku-7JVaVf_4t"
   },
   "outputs": [],
   "source": [
    "def create_fine_tuning_entry(maintenance_log):\n",
    "    # Generate a question based on the maintenance action\n",
    "    '''\n",
    "    This funtion is used to create a fine-tuned entry for training the gemma llm model\n",
    "    it follows the actual format that was used.\n",
    "    '''\n",
    "    instruction = f\"What maintenance action was performed on the {maintenance_log['equipment_name']} on {maintenance_log['timestamp'].split()[0]}?\"\n",
    "\n",
    "    # Create a detailed context from the maintenance log\n",
    "    context = (f\"On {maintenance_log['timestamp']}, technician {maintenance_log['technician']} performed a \"\n",
    "               f\"{maintenance_log['maintenance_type'].lower()} on {maintenance_log['equipment_name']}. \"\n",
    "               f\"The action taken was to {maintenance_log['action_taken'].lower()} \"\n",
    "               f\"Parts used included {maintenance_log['parts_used']}. \"\n",
    "               f\"The notes state: '{maintenance_log['notes']}' \"\n",
    "               f\"The equipment status was {maintenance_log['equipment_status']} with a performance metric of {maintenance_log['performance_metric']}.\")\n",
    "\n",
    "    # Generate a concise response\n",
    "    response = f\"A {maintenance_log['maintenance_type'].lower()} was performed on {maintenance_log['equipment_name']}, where {maintenance_log['action_taken'].lower()}\"\n",
    "\n",
    "    # Set the category\n",
    "    category = \"closed_qa\"\n",
    "\n",
    "    return {\n",
    "        \"instruction\": instruction,\n",
    "        \"context\": context,\n",
    "        \"response\": response,\n",
    "        \"category\": category\n",
    "    }"
   ]
  },
  {
   "cell_type": "code",
   "execution_count": null,
   "metadata": {},
   "outputs": [],
   "source": [
    "# def create_fine_tuning_entry(maintenance_log):\n",
    "#     '''\n",
    "#     This function is used to create a fine-tuned entry for training the gemma llm model.\n",
    "#     It follows the actual format that was used and includes various types of questions.\n",
    "#     '''\n",
    "#     question_type = random.choice(['action', 'next_maintenance', 'maintenance_type'])\n",
    "\n",
    "#     if question_type == 'action':\n",
    "#         instruction = f\"What maintenance action was performed on the {maintenance_log['equipment_name']} on {maintenance_log['timestamp'].split()[0]}?\"\n",
    "#         response = f\"A {maintenance_log['maintenance_type'].lower()} was performed on {maintenance_log['equipment_name']}, where {maintenance_log['action_taken'].lower()}\"\n",
    "#     elif question_type == 'next_maintenance':\n",
    "#         instruction = f\"When should the next maintenance be performed on the {maintenance_log['equipment_name']}?\"\n",
    "#         next_maintenance_date = (datetime.strptime(maintenance_log['timestamp'], \"%Y-%m-%d %H:%M:%S\") + \n",
    "#                                  timedelta(days=equipment_types[maintenance_log['equipment_type']]['maintenance_interval'])).strftime(\"%Y-%m-%d\")\n",
    "#         response = f\"The next maintenance for {maintenance_log['equipment_name']} should be performed on or around {next_maintenance_date}, based on the standard maintenance interval for {maintenance_log['equipment_type']}.\"\n",
    "#     else:  # maintenance_type\n",
    "#         instruction = f\"What kind of maintenance would be needed for {maintenance_log['equipment_name']} given its current status?\"\n",
    "#         if maintenance_log['equipment_status'] == 'Operational':\n",
    "#             response = f\"Given that the {maintenance_log['equipment_name']} is currently operational, it would likely need routine maintenance to ensure continued optimal performance.\"\n",
    "#         elif maintenance_log['equipment_status'] == 'Needs Maintenance':\n",
    "#             response = f\"The {maintenance_log['equipment_name']} needs maintenance. A thorough inspection and necessary repairs or part replacements should be performed.\"\n",
    "#         else:  # 'Under Repair'\n",
    "#             response = f\"The {maintenance_log['equipment_name']} is currently under repair. Once repairs are complete, a full inspection and test run should be conducted before returning it to operational status.\"\n",
    "\n",
    "#     context = (f\"On {maintenance_log['timestamp']}, technician {maintenance_log['technician']} performed a \"\n",
    "#                f\"{maintenance_log['maintenance_type'].lower()} on {maintenance_log['equipment_name']}. \"\n",
    "#                f\"The action taken was to {maintenance_log['action_taken'].lower()} \"\n",
    "#                f\"Parts used included {maintenance_log['parts_used']}. \"\n",
    "#                f\"The notes state: '{maintenance_log['notes']}' \"\n",
    "#                f\"The equipment status was {maintenance_log['equipment_status']} with a performance metric of {maintenance_log['performance_metric']}. \"\n",
    "#                f\"The standard maintenance interval for {maintenance_log['equipment_type']} is {equipment_types[maintenance_log['equipment_type']]['maintenance_interval']} days.\")\n",
    "\n",
    "#     category = \"closed_qa\"\n",
    "\n",
    "#     return {\n",
    "#         \"instruction\": instruction,\n",
    "#         \"context\": context,\n",
    "#         \"response\": response,\n",
    "#         \"category\": category\n",
    "#     }"
   ]
  },
  {
   "cell_type": "code",
   "execution_count": 20,
   "metadata": {
    "colab": {
     "base_uri": "https://localhost:8080/"
    },
    "id": "2q5Pm_TUfUYY",
    "outputId": "5c19d03f-9310-423f-8518-3dc425cffd92"
   },
   "outputs": [
    {
     "name": "stdout",
     "output_type": "stream",
     "text": [
      "Total observations generated: 18768\n",
      "Fine-tuning data saved to: C:\\Users\\yomid\\OneDrive - Case Western Reserve University\\Desktop\\KaggleX\\data_trial\\fine_tuning_data.json\n"
     ]
    }
   ],
   "source": [
    "def generate_fine_tuning_data(num_equipment, start_date, end_date, target_observations):\n",
    "    '''\n",
    "    This funtion is used to generate a fine-tuned dataset for training the gemma llm model\n",
    "    it follows the actual format that was used.\n",
    "    '''\n",
    "    maintenance_logs, total_observations = generate_data(num_equipment, start_date, end_date, target_observations)\n",
    "\n",
    "    # Convert to numpy array for shuffling\n",
    "    maintenance_logs_array = np.array(maintenance_logs)\n",
    "\n",
    "    # Shuffle the array\n",
    "    np.random.shuffle(maintenance_logs_array)\n",
    "\n",
    "    # Convert back to list\n",
    "    shuffled_maintenance_logs = maintenance_logs_array.tolist()\n",
    "\n",
    "    fine_tuning_data = [create_fine_tuning_entry(log) for log in shuffled_maintenance_logs]\n",
    "    return fine_tuning_data, total_observations\n",
    "\n",
    "\n",
    "# Usage\n",
    "num_equipment = 1000\n",
    "start_date = datetime(2012, 1, 1)\n",
    "end_date = datetime(2023, 12, 31)\n",
    "target_observations = 1000000\n",
    "\n",
    "fine_tuning_data, total_observations = generate_fine_tuning_data(num_equipment, start_date, end_date, target_observations)\n",
    "\n",
    "print(f\"Total observations generated: {total_observations}\")\n",
    "\n",
    "# Save the fine-tuning data\n",
    "with open(os.path.join(folder_path, 'fine_tuning_data.json'), 'w') as f:\n",
    "    json.dump(fine_tuning_data, f, indent=2)\n",
    "\n",
    "print(f\"Fine-tuning data saved to: {os.path.join(folder_path, 'fine_tuning_data.json')}\")"
   ]
  },
  {
   "cell_type": "code",
   "execution_count": 19,
   "metadata": {
    "colab": {
     "base_uri": "https://localhost:8080/"
    },
    "id": "QGyGAz8hdv8I",
    "outputId": "38cad205-99c5-4521-c0dd-ae6cf9c99e7c"
   },
   "outputs": [
    {
     "name": "stdout",
     "output_type": "stream",
     "text": [
      "[\n",
      "  {\n",
      "    \"instruction\": \"What maintenance action was performed on the Anaerobic Digester-587249 on 1732-09-09?\",\n",
      "    \"context\": \"On 1732-09-09 21:07:23, technician Steven Marshall performed a emergency repair on Anaerobic Digester-587249. The action taken was to repaired leaking gasket in high-pressure pump. Parts used included Mixing systems, Pumps, Pressure relief valves. The notes state: 'Leaking gasket in high-pressure pump repaired. No leaks detected.' The equipment status was Operational with a performance metric of 0.93.\",\n",
      "    \"response\": \"A emergency repair was performed on Anaerobic Digester-587249, where repaired leaking gasket in high-pressure pump.\",\n",
      "    \"category\": \"closed_qa\"\n",
      "  },\n",
      "  {\n",
      "    \"instruction\": \"What maintenance action was performed on the Lift Station-195230 on 1835-11-19?\",\n",
      "    \"context\": \"On 1835-11-19 05:45:58, technician Curtis Hernandez performed a emergency repair on Lift Station-195230. The action taken was to replaced failed solenoid valve in chemical feed system. Parts used included Valves, Bearings, Float switches. The notes state: 'Failed solenoid valve in chemical feed system replaced. No further issues.' The equipment status was Operational with a performance metric of 0.71.\",\n",
      "    \"response\": \"A emergency repair was performed on Lift Station-195230, where replaced failed solenoid valve in chemical feed system.\",\n",
      "    \"category\": \"closed_qa\"\n",
      "  },\n",
      "  {\n",
      "    \"instruction\": \"What maintenance action was performed on the Sludge Thickener-705649 on 1948-10-11?\",\n",
      "    \"context\": \"On 1948-10-11 14:09:34, technician Sarah Bolton performed a emergency repair on Sludge Thickener-705649. The action taken was to replaced burnt-out fuse causing equipment to malfunction. Parts used included Drive motors, Pumps, Bearings. The notes state: 'Replaced burnt-out fuse causing equipment to malfunction. Fuse box inspected for additional damage.' The equipment status was Operational with a performance metric of 0.77.\",\n",
      "    \"response\": \"A emergency repair was performed on Sludge Thickener-705649, where replaced burnt-out fuse causing equipment to malfunction.\",\n",
      "    \"category\": \"closed_qa\"\n",
      "  },\n",
      "  {\n",
      "    \"instruction\": \"What maintenance action was performed on the Aeration Tank-634555 on 1709-12-10?\",\n",
      "    \"context\": \"On 1709-12-10 16:19:46, technician Brenda Morrison performed a emergency repair on Aeration Tank-634555. The action taken was to replaced faulty relay switch causing intermittent shutdowns. Parts used included Motors and fans, Valves, Blowers. The notes state: 'Replaced faulty relay switch causing intermittent shutdowns. Continuous operation verified.' The equipment status was Operational with a performance metric of 0.78.\",\n",
      "    \"response\": \"A emergency repair was performed on Aeration Tank-634555, where replaced faulty relay switch causing intermittent shutdowns.\",\n",
      "    \"category\": \"closed_qa\"\n",
      "  },\n",
      "  {\n",
      "    \"instruction\": \"What maintenance action was performed on the Aeration Tank-443695 on 1891-03-17?\",\n",
      "    \"context\": \"On 1891-03-17 06:25:08, technician Kevin Guerra performed a emergency repair on Aeration Tank-443695. The action taken was to emergency repair of membrane in membrane bioreactor. Parts used included Air piping, Membranes, Blowers. The notes state: 'Emergency repair of membrane in Membrane Bioreactor. Checked and confirmed proper filtration.' The equipment status was Operational with a performance metric of 0.79.\",\n",
      "    \"response\": \"A emergency repair was performed on Aeration Tank-443695, where emergency repair of membrane in membrane bioreactor.\",\n",
      "    \"category\": \"closed_qa\"\n",
      "  }\n",
      "]\n"
     ]
    }
   ],
   "source": [
    "file_path = os.path.join(folder_path, 'fine_tuning_data.json')\n",
    "with open(file_path, 'r') as f:\n",
    "    data = json.load(f)\n",
    "\n",
    "print(json.dumps(data[:5], indent=2))"
   ]
  },
  {
   "cell_type": "code",
   "execution_count": 22,
   "metadata": {
    "colab": {
     "base_uri": "https://localhost:8080/"
    },
    "id": "dp3Aqx0EjimF",
    "outputId": "bac04b6c-41e6-4305-8b6c-9ec8e8e3b4b2"
   },
   "outputs": [
    {
     "name": "stdout",
     "output_type": "stream",
     "text": [
      "\n",
      "Structure of a single item:\n",
      "{\n",
      "  \"instruction\": \"str\",\n",
      "  \"context\": \"str\",\n",
      "  \"response\": \"str\",\n",
      "  \"category\": \"str\"\n",
      "}\n"
     ]
    }
   ],
   "source": [
    "# # Alternatively, if you want to print just the structure without all the data:\n",
    "print(\"\\nStructure of a single item:\")\n",
    "print(json.dumps({k: type(v).__name__ for k, v in data[0].items()}, indent=2))"
   ]
  },
  {
   "cell_type": "code",
   "execution_count": 20,
   "metadata": {
    "id": "R0mEDrP_cCqI"
   },
   "outputs": [],
   "source": [
    "# def generate_fine_tuning_data(num_equipment, start_date, end_date, target_observations):\n",
    "#     maintenance_logs, total_observations = generate_data(num_equipment, start_date, end_date, target_observations)\n",
    "#     fine_tuning_data = [create_fine_tuning_entry(log) for log in maintenance_logs]\n",
    "#     return fine_tuning_data, total_observations\n",
    "\n",
    "# # Usage\n",
    "# num_equipment = 1000\n",
    "# start_date = datetime(1700, 1, 1)\n",
    "# end_date = datetime(2023, 12, 31)\n",
    "# target_observations = 1000000\n",
    "\n",
    "# fine_tuning_data, total_observations = generate_fine_tuning_data(num_equipment, start_date, end_date, target_observations)\n",
    "\n",
    "# print(f\"Total observations generated: {total_observations}\")\n",
    "\n",
    "# # Save the fine-tuning data\n",
    "# with open(os.path.join(folder_path, 'fine_tuning_data.json'), 'w') as f:\n",
    "#     json.dump(fine_tuning_data, f, indent=2)\n",
    "\n",
    "# print(f\"Fine-tuning data saved to: {os.path.join(folder_path, 'fine_tuning_data.json')}\")"
   ]
  },
  {
   "cell_type": "code",
   "execution_count": 21,
   "metadata": {
    "id": "drH_N646Wi7w"
   },
   "outputs": [],
   "source": [
    "# import json\n",
    "\n",
    "# # After saving the JSON file\n",
    "# json_file_path = os.path.join(folder_path, 'wastewater_treatment_data.json')\n",
    "\n",
    "# # Read and print the first few lines of the JSON file\n",
    "# with open(json_file_path, 'r') as f:\n",
    "#     # Read the first 5 items from the JSON file\n",
    "#     data = json.load(f)\n",
    "#     print(\"First 5 items in the JSON file:\")\n",
    "#     print(json.dumps(data[:5], indent=2))\n",
    "\n",
    "# # Alternatively, if you want to print just the structure without all the data:\n",
    "# print(\"\\nStructure of a single item:\")\n",
    "# print(json.dumps({k: type(v).__name__ for k, v in data[0].items()}, indent=2))"
   ]
  }
 ],
 "metadata": {
  "colab": {
   "provenance": []
  },
  "kernelspec": {
   "display_name": "Python 3 (ipykernel)",
   "language": "python",
   "name": "python3"
  },
  "language_info": {
   "codemirror_mode": {
    "name": "ipython",
    "version": 3
   },
   "file_extension": ".py",
   "mimetype": "text/x-python",
   "name": "python",
   "nbconvert_exporter": "python",
   "pygments_lexer": "ipython3",
   "version": "3.11.5"
  }
 },
 "nbformat": 4,
 "nbformat_minor": 1
}
