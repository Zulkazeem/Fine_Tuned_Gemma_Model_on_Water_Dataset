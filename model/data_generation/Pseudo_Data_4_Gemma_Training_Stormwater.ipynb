{
 "cells": [
  {
   "cell_type": "markdown",
   "metadata": {
    "id": "wxMjv4Xg3ZXj"
   },
   "source": [
    "Import libraries"
   ]
  },
  {
   "cell_type": "code",
   "execution_count": 1,
   "metadata": {
    "colab": {
     "base_uri": "https://localhost:8080/"
    },
    "id": "0EDnGGyr4D7t",
    "outputId": "4a3bc9f8-0914-4e86-fae2-c820e395c3da"
   },
   "outputs": [
    {
     "name": "stdout",
     "output_type": "stream",
     "text": [
      "Requirement already satisfied: faker in c:\\users\\yomid\\anaconda3\\lib\\site-packages (28.4.1)\n",
      "Requirement already satisfied: python-dateutil>=2.4 in c:\\users\\yomid\\anaconda3\\lib\\site-packages (from faker) (2.8.2)\n",
      "Requirement already satisfied: six>=1.5 in c:\\users\\yomid\\anaconda3\\lib\\site-packages (from python-dateutil>=2.4->faker) (1.16.0)\n"
     ]
    }
   ],
   "source": [
    "!pip install faker"
   ]
  },
  {
   "cell_type": "code",
   "execution_count": 1,
   "metadata": {
    "id": "4EUiDn25VVeO"
   },
   "outputs": [],
   "source": [
    "import os\n",
    "import json\n",
    "import pandas as pd\n",
    "import numpy as np\n",
    "from faker import Faker\n",
    "from datetime import datetime, timedelta, time\n",
    "import random\n",
    "import re\n",
    "\n",
    "fake = Faker()"
   ]
  },
  {
   "cell_type": "code",
   "execution_count": 2,
   "metadata": {
    "id": "65L6jOmiRlyE"
   },
   "outputs": [],
   "source": [
    "# Define the folder path\n",
    "folder_path = r\"C:\\Users\\yomid\\OneDrive - Case Western Reserve University\\Desktop\\KaggleX\\Stormwater_Data_updated\"\n",
    "\n",
    "# Ensure the folder exists\n",
    "os.makedirs(folder_path, exist_ok=True)"
   ]
  },
  {
   "cell_type": "code",
   "execution_count": 3,
   "metadata": {
    "id": "Jt1re19oRs6r"
   },
   "outputs": [],
   "source": [
    "equipment_types = {\n",
    "    'Flow Meters': {'lifespan': 15, 'maintenance_interval': 60, 'failure_rate': 0.005},\n",
    "    'Inspection Cameras': {'lifespan': 10, 'maintenance_interval': 30, 'failure_rate': 0.008},\n",
    "    'Drones': {'lifespan': 8, 'maintenance_interval': 20, 'failure_rate': 0.010},\n",
    "    'Safety Harnesses': {'lifespan': 10, 'maintenance_interval': 24, 'failure_rate': 0.004},\n",
    "    'Flashlights': {'lifespan': 5, 'maintenance_interval': 12, 'failure_rate': 0.003},\n",
    "    'Manhole Covers': {'lifespan': 50, 'maintenance_interval': 120, 'failure_rate': 0.001},\n",
    "    'Battery Backups': {'lifespan': 7, 'maintenance_interval': 24, 'failure_rate': 0.006},\n",
    "    'Sediment Pumps': {'lifespan': 12, 'maintenance_interval': 36, 'failure_rate': 0.009},\n",
    "    'Flow Control Valves': {'lifespan': 20, 'maintenance_interval': 48, 'failure_rate': 0.007},\n",
    "    'Emergency Response Kits': {'lifespan': 5, 'maintenance_interval': 12, 'failure_rate': 0.002}\n",
    "}"
   ]
  },
  {
   "cell_type": "code",
   "execution_count": 4,
   "metadata": {
    "id": "VAeolBY0SkdD"
   },
   "outputs": [],
   "source": [
    "equipment_parts = {\n",
    "    'Flow Meters': ['Sensor', 'Display unit', 'Calibration tools', 'Flow tube', 'Mounting brackets', 'Battery'],\n",
    "    \n",
    "    'Inspection Cameras': ['Camera head', 'Cable reel', 'Controller unit', 'Lighting system', 'Battery pack', 'Monitor'],\n",
    "    \n",
    "    'Drones': ['Propellers', 'Battery', 'Camera', 'GPS module', 'Remote controller', 'Sensors'],\n",
    "    \n",
    "    'Safety Harnesses': ['Straps', 'Buckle', 'D-ring', 'Padding', 'Connector'],\n",
    "    \n",
    "    'Flashlights': ['Bulb', 'Reflector', 'Lens', 'Body casing', 'Battery compartment'],\n",
    "    \n",
    "    'Manhole Covers': ['Lid', 'Frame', 'Lifting keyholes', 'Sealing gasket', 'Bolts', 'Safety grates'],\n",
    "    \n",
    "    'Battery Backups': ['Battery cells', 'Charger', 'Inverter', 'Battery management system', 'Housing'],\n",
    "    \n",
    "    'Sediment Pumps': ['Impeller', 'Motor', 'Discharge hose', 'Suction screen', 'Float switch'],\n",
    "    \n",
    "    'Flow Control Valves': ['Valve body', 'Actuator', 'Handle', 'Seals', 'Mounting flange'],\n",
    "    \n",
    "    'Emergency Response Kits': ['Flashlight', 'First aid supplies', 'Multi-tool', 'Warning signs', 'Emergency blankets']\n",
    "}"
   ]
  },
  {
   "cell_type": "code",
   "execution_count": 5,
   "metadata": {
    "id": "Ze54uCNkR09x"
   },
   "outputs": [],
   "source": [
    "monitoring_actions = [\n",
    "    \"Regularly monitoring inflow and outflow rates using flow meters to maintain system balance.\",\n",
    "    \"Calibrating flow meters periodically to ensure precise water flow measurements.\",\n",
    "    \"Scheduling emptying of retention basins to maintain capacity for stormwater runoff.\",\n",
    "    \"Inspecting sensor data monthly to prevent inaccuracies during heavy rainfall events.\",\n",
    "    \"Checking drainage systems after major storms to identify and clear blockages.\",\n",
    "    \"Maintaining a performance log for all equipment to identify potential failures.\",\n",
    "    \"Conducting quarterly tests of pump stations to confirm activation during high water levels.\",\n",
    "    \"Verifying the functionality of battery backups to ensure operation during power outages.\",\n",
    "    \"Inspecting joints and seals on pipes to detect wear and tear, preventing leakages.\",\n",
    "    \"Conducting regular inspections of grates and screens to remove accumulated debris.\",\n",
    "    \"Monitoring metal components for signs of corrosion, ensuring long-term reliability.\",\n",
    "    \"Performing flow tests during dry periods to maintain consistent water movement.\",\n",
    "    \"Carrying out annual audits of the stormwater system to assess performance and efficiency.\",\n",
    "    \"Monitoring water quality in retention basins to detect and manage potential contaminants.\",\n",
    "    \"Conducting functionality tests on alarm systems to ensure immediate flood alerts.\",\n",
    "    \"Reviewing weekly data logs to identify unusual water level patterns for proactive measures.\",\n",
    "    \"Checking sediment levels in detention ponds to schedule necessary removal.\",\n",
    "    \"Ensuring all access points are clear and free from vegetation or obstructions.\",\n",
    "    \"Monitoring the operation of control valves to manage water flow effectively.\",\n",
    "    \"Inspecting safety barriers and warning signs around stormwater infrastructure for visibility.\"\n",
    "]\n",
    "\n",
    "monitoring_notes = [\n",
    "    \"Inflow and outflow rates are consistently monitored, ensuring system balance is maintained.\",\n",
    "    \"Flow meters are successfully calibrated, achieving accurate water flow measurements.\",\n",
    "    \"Retention basins are emptied as scheduled, maintaining optimal capacity for stormwater runoff.\",\n",
    "    \"Monthly inspections of sensor data reveal no inaccuracies during heavy rainfall events.\",\n",
    "    \"Post-storm checks of drainage systems identify and clear all blockages effectively.\",\n",
    "    \"The performance log is maintained diligently, allowing for early detection of potential equipment failures.\",\n",
    "    \"Quarterly tests confirm that pump stations activate properly during high water levels.\",\n",
    "    \"Battery backups are verified to be fully operational, ensuring continuity during power outages.\",\n",
    "    \"Inspections reveal no significant wear on joints and seals of pipes, preventing leakages.\",\n",
    "    \"Regular inspections of grates and screens result in the removal of all accumulated debris.\",\n",
    "    \"No signs of corrosion are detected on metal components, ensuring long-term reliability.\",\n",
    "    \"Flow tests conducted during dry periods confirm consistent water movement.\",\n",
    "    \"Annual audits indicate that the stormwater system is performing efficiently.\",\n",
    "    \"Water quality in retention basins is monitored, revealing no significant contaminants.\",\n",
    "    \"Functionality tests on alarm systems confirm that immediate flood alerts are operational.\",\n",
    "    \"Weekly data log reviews identify no unusual patterns in water levels.\",\n",
    "    \"Sediment levels in detention ponds are checked, and removal is scheduled for next week.\",\n",
    "    \"All access points are clear and free from vegetation, ensuring easy accessibility.\",\n",
    "    \"Operation of control valves is monitored, showing effective management of water flow.\",\n",
    "    \"Safety barriers and warning signs are inspected, confirming visibility and readiness.\"\n",
    "]\n",
    "\n",
    "inspection_actions = [\n",
    "    \"Removing debris from multiple grates to restore normal water flow.\",\n",
    "    \"Adjusting the flow meter calibration to correct the observed deviation.\",\n",
    "    \"Inspecting all drainage channels to check for potential blockages.\",\n",
    "    \"Securing and checking manhole covers for any signs of damage or tampering.\",\n",
    "    \"Repairing the minor crack found on the concrete lining of the retention basin.\",\n",
    "    \"Manually activating the pump station to test its response to simulated flooding.\",\n",
    "    \"Inspecting safety harnesses and flashlights for readiness and functionality.\",\n",
    "    \"Scheduling a cleanout operation for the sediment buildup in the detention pond.\",\n",
    "    \"Testing the alarm system to ensure flood alerts are functioning correctly.\",\n",
    "    \"Clearing vegetation around drainage outlets to prevent potential blockages.\",\n",
    "    \"Checking metal components for corrosion to ensure structural integrity.\",\n",
    "    \"Using inspection cameras to visualize internal pipe conditions for damage.\",\n",
    "    \"Reinforcing eroded sections of the embankment to prevent further deterioration.\",\n",
    "    \"Charging and testing the battery backup system for emergency power supply.\",\n",
    "    \"Inspecting outfall structures to confirm they are free of obstructions.\",\n",
    "    \"Cleaning minor debris from grate screens to maintain water flow.\",\n",
    "    \"Verifying the contents of the emergency response kit and ensuring accessibility.\",\n",
    "    \"Conducting a dry run of the flood response plan to check for leaks or issues.\",\n",
    "    \"Opening all access points to verify ease of inspection.\",\n",
    "    \"Testing the flow control valves for smooth operation and responsiveness.\"\n",
    "]\n",
    "\n",
    "inspection_notes = [\n",
    "    \"Debris is removed from multiple grates, restoring normal water flow.\",\n",
    "    \"The flow meter calibration is adjusted to correct the observed deviation.\",\n",
    "    \"All drainage channels are inspected, and no blockages are detected.\",\n",
    "    \"Manhole covers are secured and checked for signs of damage or tampering.\",\n",
    "    \"A minor crack is repaired on the concrete lining of the retention basin.\",\n",
    "    \"The pump station responds correctly to the manual test activation.\",\n",
    "    \"Safety harnesses and flashlights are found to be in good working condition.\",\n",
    "    \"Sediment buildup is noted in the detention pond; a cleanout is scheduled.\",\n",
    "    \"The alarm system is tested, and the alerts are received promptly.\",\n",
    "    \"Vegetation around drainage outlets is cleared to prevent blockages.\",\n",
    "    \"No signs of corrosion are detected on metal components during inspection.\",\n",
    "    \"Inspection cameras provide clear visuals, indicating no internal pipe damage.\",\n",
    "    \"Erosion is observed on a small section of the embankment and is reinforced.\",\n",
    "    \"The battery backup system is fully charged and operational.\",\n",
    "    \"Outfall structures are checked and found to be free of obstructions.\",\n",
    "    \"Grate screens have minor debris removed, maintaining water flow.\",\n",
    "    \"The emergency response kit is complete and easily accessible.\",\n",
    "    \"No leaks are detected during the dry run of the flood response plan.\",\n",
    "    \"All access points are clear and easy to open for inspection.\",\n",
    "    \"The flow control valves are operating smoothly without any resistance.\"\n",
    "]\n"
   ]
  },
  {
   "cell_type": "code",
   "execution_count": 6,
   "metadata": {
    "id": "B_HQAJ73ZMve"
   },
   "outputs": [],
   "source": [
    "def get_relevant_parts(stormwater_equipment, action, num_parts=3):\n",
    "\n",
    "    all_parts = equipment_parts[stormwater_equipment]\n",
    "    action_words = set(re.findall(r'\\b\\w+\\b', action.lower()))\n",
    "\n",
    "    # First, get parts that match the action\n",
    "    relevant_parts = [part for part in all_parts if any(word in part.lower() for word in action_words)]\n",
    "\n",
    "    # If we don't have enough relevant parts, add random parts from the equipment\n",
    "    while len(relevant_parts) < num_parts and len(relevant_parts) < len(all_parts):\n",
    "        random_part = random.choice(all_parts)\n",
    "        if random_part not in relevant_parts:\n",
    "            relevant_parts.append(random_part)\n",
    "\n",
    "    return relevant_parts[:num_parts]"
   ]
  },
  {
   "cell_type": "code",
   "execution_count": 7,
   "metadata": {
    "id": "LtEX-C3yZvym"
   },
   "outputs": [],
   "source": [
    "def create_action_note_pairs(actions, notes):\n",
    "    pairs = []\n",
    "    for action in actions:\n",
    "        best_match = max(notes, key=lambda note: len(set(action.lower().split()) & set(note.lower().split())))\n",
    "        pairs.append((action, best_match))\n",
    "    return pairs\n",
    "\n",
    "\n",
    "inspection_pairs = create_action_note_pairs(inspection_actions, inspection_notes)\n",
    "monitoring_pairs = create_action_note_pairs(monitoring_actions, monitoring_notes)"
   ]
  },
  {
   "cell_type": "code",
   "execution_count": 8,
   "metadata": {
    "id": "cveMY1-HojGZ"
   },
   "outputs": [],
   "source": [
    "def create_observation(equipment, maintenance_type, date):\n",
    "    work_order_id = str(fake.uuid4())\n",
    "    maintenance_log_id = str(fake.uuid4())\n",
    "    status_report_id = str(fake.uuid4())\n",
    "\n",
    "   \n",
    "    if maintenance_type == \"Monitoring\":\n",
    "        action, note = random.choice(monitoring_pairs)\n",
    "    else:  # Inspection\n",
    "        action, note = random.choice(inspection_pairs)\n",
    "\n",
    "    relevant_parts = get_relevant_parts(equipment['type'], action)\n",
    "    parts_used = ', '.join(relevant_parts) if relevant_parts else 'No specific parts'\n",
    "\n",
    "    # Generate a random time\n",
    "    random_time = time(random.randint(0, 23), random.randint(0, 59), random.randint(0, 59))\n",
    "\n",
    "    # Combine date and random time\n",
    "    timestamp = datetime.combine(date, random_time)\n",
    "\n",
    "    return {\n",
    "        'work_order_id': work_order_id,\n",
    "        'equipment_id': equipment['id'],\n",
    "        'maintenance_log_id': maintenance_log_id,\n",
    "        'status_report_id': status_report_id,\n",
    "        'timestamp': timestamp.strftime(\"%Y-%m-%d %H:%M:%S\"),\n",
    "        'technician': fake.name(),\n",
    "        'maintenance_type': maintenance_type,\n",
    "        'action_taken': action,\n",
    "        'parts_used': parts_used,\n",
    "        'notes': note,\n",
    "        'equipment_name': equipment['name'],\n",
    "        'equipment_type': equipment['type'],\n",
    "        'equipment_status': equipment['status'],\n",
    "        'performance_metric': round(random.uniform(0.7, 1.0), 2),\n",
    "        'installation_date': equipment['installation_date'].strftime(\"%Y-%m-%d\")  # Add this line\n",
    "    }"
   ]
  },
  {
   "cell_type": "code",
   "execution_count": 9,
   "metadata": {
    "id": "n2CBYXmaoc0O"
   },
   "outputs": [],
   "source": [
    "def generate_data(num_equipment, start_date, end_date, target_observations):\n",
    "    combined_data = []\n",
    "    total_observations = 0\n",
    "\n",
    "    start_date = datetime.combine(start_date, datetime.min.time())\n",
    "    end_date = datetime.combine(end_date, datetime.min.time())\n",
    "\n",
    "    for _ in range(num_equipment):\n",
    "        equip_type = random.choice(list(equipment_types.keys()))\n",
    "        equipment = {\n",
    "            'id': str(fake.uuid4()),\n",
    "            'name': f\"{equip_type}-{fake.random_int(min=1000, max=999999)}\",\n",
    "            'type': equip_type,\n",
    "            'installation_date': fake.date_between(start_date='-100y', end_date='-1y'),\n",
    "            'last_maintenance': fake.date_between(start_date='-1y', end_date='today'),\n",
    "            'status': random.choices(['Operational', 'Needs Maintenance', 'Under Repair'], weights=[0.8, 0.15, 0.05])[0]\n",
    "        }\n",
    "\n",
    "        maintenance_date = datetime.combine(equipment['last_maintenance'], datetime.min.time())\n",
    "        while maintenance_date <= end_date:\n",
    "            if maintenance_date >= start_date:\n",
    "                observation = create_observation(equipment, 'Routine Maintenance', maintenance_date)\n",
    "                combined_data.append(observation)\n",
    "                total_observations += 1\n",
    "\n",
    "                if random.random() < 0.5:\n",
    "                    inspection_observation = create_observation(equipment, 'Inspection', maintenance_date)\n",
    "                    combined_data.append(inspection_observation)\n",
    "                    total_observations += 1\n",
    "\n",
    "            maintenance_date += timedelta(days=equipment_types[equipment['type']]['maintenance_interval'])\n",
    "\n",
    "            \n",
    "        # Monitoring\n",
    "        current_date = start_date\n",
    "        while current_date <= end_date:\n",
    "            if random.random() < equipment_types[equipment['type']]['failure_rate']:\n",
    "                monitoring_observation = create_observation(equipment, 'Monitoring', current_date)\n",
    "                combined_data.append(monitoring_observation)\n",
    "                total_observations += 1\n",
    "\n",
    "            current_date += timedelta(days=1)\n",
    "\n",
    "        if total_observations >= target_observations:\n",
    "            break\n",
    "\n",
    "    return combined_data, total_observations  # Make sure to return these values"
   ]
  },
  {
   "cell_type": "code",
   "execution_count": 10,
   "metadata": {},
   "outputs": [],
   "source": [
    "# Main execution\n",
    "num_equipment = 1000\n",
    "start_date = datetime(2020, 1, 1)\n",
    "end_date = datetime(2024, 5, 31)\n",
    "target_observations = 1000000"
   ]
  },
  {
   "cell_type": "code",
   "execution_count": 11,
   "metadata": {},
   "outputs": [
    {
     "name": "stdout",
     "output_type": "stream",
     "text": [
      "Generating data...\n",
      "Total observations generated: 14691\n"
     ]
    }
   ],
   "source": [
    "print(\"Generating data...\")\n",
    "combined_data, total_observations = generate_data(num_equipment, start_date, end_date, target_observations)\n",
    "\n",
    "print(f\"Total observations generated: {total_observations}\")"
   ]
  },
  {
   "cell_type": "code",
   "execution_count": 12,
   "metadata": {},
   "outputs": [
    {
     "name": "stdout",
     "output_type": "stream",
     "text": [
      "Combined JSON data saved to: C:\\Users\\yomid\\OneDrive - Case Western Reserve University\\Desktop\\KaggleX\\Stormwater_Data_updated\\stormwater_treatment_data.json\n"
     ]
    }
   ],
   "source": [
    "# Save the combined JSON file\n",
    "json_file_path = os.path.join(folder_path, 'stormwater_treatment_data.json')\n",
    "with open(json_file_path, 'w') as f:\n",
    "    json.dump(combined_data, f, default=str, indent=2)\n",
    "\n",
    "print(f\"Combined JSON data saved to: {json_file_path}\")"
   ]
  },
  {
   "cell_type": "code",
   "execution_count": 13,
   "metadata": {},
   "outputs": [
    {
     "name": "stdout",
     "output_type": "stream",
     "text": [
      "CSV files saved in the specified folder.\n"
     ]
    }
   ],
   "source": [
    "# Separate the data into different categories\n",
    "'''\n",
    "The several data categories are saved into individual CSV files before being merged together.\n",
    "'''\n",
    "equipment_data = []\n",
    "work_orders_data = []\n",
    "maintenance_logs_data = []\n",
    "status_reports_data = []\n",
    "\n",
    "for item in combined_data:\n",
    "    equipment_data.append({\n",
    "        'id': item['equipment_id'],\n",
    "        'name': item['equipment_name'],\n",
    "        'type': item['equipment_type'],\n",
    "        'status': item['equipment_status']\n",
    "    })\n",
    "    work_orders_data.append({\n",
    "        'id': item['work_order_id'],\n",
    "        'equipment_id': item['equipment_id'],\n",
    "        'timestamp': item['timestamp'],\n",
    "        'maintenance_type': item['maintenance_type']\n",
    "    })\n",
    "    maintenance_logs_data.append({\n",
    "        'id': item['maintenance_log_id'],\n",
    "        'work_order_id': item['work_order_id'],\n",
    "        'technician': item['technician'],\n",
    "        'action_taken': item['action_taken'],\n",
    "        'parts_used': item['parts_used'],\n",
    "        'notes': item['notes']\n",
    "    })\n",
    "    status_reports_data.append({\n",
    "        'id': item['status_report_id'],\n",
    "        'equipment_id': item['equipment_id'],\n",
    "        'timestamp': item['timestamp'],\n",
    "        'performance_metric': item['performance_metric']\n",
    "    })\n",
    "\n",
    "# Save separate CSV files\n",
    "pd.DataFrame(equipment_data).to_csv(os.path.join(folder_path, 'equipment.csv'), index=False)\n",
    "pd.DataFrame(work_orders_data).to_csv(os.path.join(folder_path, 'work_orders.csv'), index=False)\n",
    "pd.DataFrame(maintenance_logs_data).to_csv(os.path.join(folder_path, 'maintenance_logs.csv'), index=False)\n",
    "pd.DataFrame(status_reports_data).to_csv(os.path.join(folder_path, 'status_reports.csv'), index=False)\n",
    "\n",
    "print(\"CSV files saved in the specified folder.\")"
   ]
  },
  {
   "cell_type": "markdown",
   "metadata": {
    "id": "tkXq69VjcK7x"
   },
   "source": [
    "Fine_Tuned_Dataset"
   ]
  },
  {
   "cell_type": "code",
   "execution_count": 14,
   "metadata": {
    "id": "Ku-7JVaVf_4t"
   },
   "outputs": [],
   "source": [
    "def create_fine_tuning_entry(maintenance_log):\n",
    "    # Generate a question based on the maintenance action\n",
    "    '''\n",
    "    This funtion is used to create a fine-tuned entry for training the gemma llm model\n",
    "    it follows the actual format that was used.\n",
    "    '''\n",
    "    instruction = f\"What maintenance action was performed on the {maintenance_log['equipment_name']} on {maintenance_log['timestamp'].split()[0]}?\"\n",
    "\n",
    "    # Create a detailed context from the maintenance log\n",
    "    context = (f\"On {maintenance_log['timestamp']}, technician {maintenance_log['technician']} performed a \"\n",
    "               f\"{maintenance_log['maintenance_type'].lower()} on {maintenance_log['equipment_name']}. \"\n",
    "               f\"The action taken was to {maintenance_log['action_taken'].lower()} \"\n",
    "               f\"Parts used included {maintenance_log['parts_used']}. \"\n",
    "               f\"The notes state: '{maintenance_log['notes']}' \"\n",
    "               f\"The equipment status was {maintenance_log['equipment_status']} with a performance metric of {maintenance_log['performance_metric']}.\")\n",
    "\n",
    "    # Generate a concise response\n",
    "    response = f\"A {maintenance_log['maintenance_type'].lower()} was performed on {maintenance_log['equipment_name']}, where {maintenance_log['action_taken'].lower()}\"\n",
    "\n",
    "    # Set the category\n",
    "    category = \"closed_qa\"\n",
    "\n",
    "    return {\n",
    "        \"instruction\": instruction,\n",
    "        \"context\": context,\n",
    "        \"response\": response,\n",
    "        \"category\": category\n",
    "    }"
   ]
  },
  {
   "cell_type": "code",
   "execution_count": 15,
   "metadata": {
    "id": "gPPOvddjhBRv"
   },
   "outputs": [],
   "source": [
    "# def create_fine_tuning_entry(maintenance_log):\n",
    "#     '''\n",
    "#     This function creates a fine-tuned entry for training the gemma llm model.\n",
    "#     It incorporates equipment lifespan information for more realistic maintenance predictions.\n",
    "#     '''\n",
    "#     question_type = random.choice(['action', 'next_maintenance', 'maintenance_type', 'lifespan'])\n",
    "\n",
    "#     equipment_type = maintenance_log['equipment_type']\n",
    "#     equipment_name = maintenance_log['equipment_name']\n",
    "#     last_service_date = datetime.strptime(maintenance_log['timestamp'].split()[0], \"%Y-%m-%d\")\n",
    "#     installation_date = datetime.strptime(maintenance_log['installation_date'], \"%Y-%m-%d\")\n",
    "\n",
    "#     lifespan = equipment_types[equipment_type]['lifespan']\n",
    "#     maintenance_interval = equipment_types[equipment_type]['maintenance_interval']\n",
    "\n",
    "#     if question_type == 'action':\n",
    "#         instruction = f\"What maintenance action was performed on the {equipment_name} on {last_service_date.strftime('%Y-%m-%d')}?\"\n",
    "#         response = f\"A {maintenance_log['maintenance_type'].lower()} was performed on {equipment_name}, where {maintenance_log['action_taken'].lower()}\"\n",
    "#     elif question_type == \"monitoring\":\n",
    "#         instruction = f\"What monitoring data was recorded for the {equipment_name} on {last_monitoring_date.strftime('%Y-%m-%d')}?\"\n",
    "#         response = f\"During the monitoring of {equipment_name}, the following was observed: {monitoring_log['observation'].lower()}. The recorded values were {monitoring_log['recorded_values']}.\"\n",
    "#     elif question_type == 'outlet_control':\n",
    "#         instruction = f\"Based on the predicted rainfall, at what rate should the outlet for {equipment_name} be opened to prevent flooding?\"\n",
    "#         if predicted_rainfall < 50:  # Light rain\n",
    "#             response = f\"With {predicted_rainfall} mm of predicted rain, the outlet for {equipment_name} should be opened at a rate of 0.5 to 2 m³/s to allow slower drainage and prevent flooding.\"\n",
    "#         elif 50 <= predicted_rainfall < 150:  # Moderate rain\n",
    "#             response = f\"With {predicted_rainfall} mm of predicted rain, the outlet for {equipment_name} should be opened at a rate of 5 to 10 m³/s to manage the water flow effectively and prevent flooding.\"\n",
    "#         elif predicted_rainfall >= 150:  # Heavy rain\n",
    "#             response = f\"With {predicted_rainfall} mm of predicted rain, the outlet for {equipment_name} should be fully opened at a rate of 15 m³/s to allow maximum water flow and prevent flooding.\"\n",
    "#     elif question_type == 'next_maintenance':\n",
    "#         next_maintenance_date = last_service_date + timedelta(days=maintenance_interval)\n",
    "#         instruction = f\"When is the next maintenance due for {equipment_name} based on its last service date?\"\n",
    "#         response = f\"Based on the last service date of {last_service_date.strftime('%Y-%m-%d')} and the standard maintenance interval of {maintenance_interval} days for {equipment_type}, the next maintenance for {equipment_name} is due on {next_maintenance_date.strftime('%Y-%m-%d')}.\"\n",
    "#     elif question_type == 'maintenance_type':\n",
    "#         instruction = f\"What kind of maintenance would be needed for {equipment_name} given its current status?\"\n",
    "#         if maintenance_log['equipment_status'] == 'Operational':\n",
    "#             response = f\"Given that the {equipment_name} is currently operational, it would likely need routine maintenance to ensure continued optimal performance.\"\n",
    "#         elif maintenance_log['equipment_status'] == 'Needs Maintenance':\n",
    "#             response = f\"The {equipment_name} needs maintenance. A thorough inspection and necessary repairs or part replacements should be performed.\"\n",
    "#         else:  # 'Under Repair'\n",
    "#             response = f\"The {equipment_name} is currently under repair. Once repairs are complete, a full inspection and test run should be conducted before returning it to operational status.\"\n",
    "#     else:  # lifespan\n",
    "#         age = (last_service_date - installation_date).days / 365.25  # age in years\n",
    "#         remaining_life = lifespan - age\n",
    "#         instruction = f\"Based on the lifespan of {equipment_type}, how much longer can {equipment_name} be expected to operate?\"\n",
    "#         if remaining_life > 0:\n",
    "#             response = f\"The {equipment_name} was installed on {installation_date.strftime('%Y-%m-%d')} and has been in operation for approximately {age:.1f} years. Given the typical lifespan of {lifespan} years for {equipment_type}, it can be expected to operate for about {remaining_life:.1f} more years, assuming proper maintenance. However, its performance should be closely monitored as it approaches the end of its expected lifespan.\"\n",
    "#         else:\n",
    "#             response = f\"The {equipment_name} was installed on {installation_date.strftime('%Y-%m-%d')} and has been in operation for approximately {age:.1f} years, which exceeds the typical lifespan of {lifespan} years for {equipment_type}. It is recommended to plan for replacement soon, as the equipment may be operating beyond its designed lifespan and could be at higher risk of failure.\"\n",
    "\n",
    "#     context = (f\"On {maintenance_log['timestamp']}, technician {maintenance_log['technician']} performed a \"\n",
    "#                f\"{maintenance_log['maintenance_type'].lower()} on {equipment_name}. \"\n",
    "#                f\"The action taken was to {maintenance_log['action_taken'].lower()} \"\n",
    "#                f\"Parts used included {maintenance_log['parts_used']}. \"\n",
    "#                f\"The notes state: '{maintenance_log['notes']}' \"\n",
    "#                f\"The equipment status was {maintenance_log['equipment_status']} with a performance metric of {maintenance_log['performance_metric']}. \"\n",
    "#                f\"The standard maintenance interval for {equipment_type} is {maintenance_interval} days, \"\n",
    "#                f\"and its typical lifespan is {lifespan} years. \"\n",
    "#                f\"This {equipment_type} was installed on {installation_date.strftime('%Y-%m-%d')}.\")\n",
    "\n",
    "#     category = \"closed_qa\"\n",
    "\n",
    "#     return {\n",
    "#         \"instruction\": instruction,\n",
    "#         \"context\": context,\n",
    "#         \"response\": response,\n",
    "#         \"category\": category\n",
    "#     }"
   ]
  },
  {
   "cell_type": "code",
   "execution_count": 28,
   "metadata": {},
   "outputs": [],
   "source": [
    "import random\n",
    "from datetime import datetime, timedelta\n",
    "\n",
    "def create_fine_tuning_entry(maintenance_log):\n",
    "    '''\n",
    "    This function creates a fine-tuned entry for training the Gemma LLM model.\n",
    "    It incorporates equipment lifespan information for more realistic maintenance predictions.\n",
    "    '''\n",
    "    question_type = random.choice(['action', 'next_maintenance', 'maintenance_type', 'lifespan'])\n",
    "    \n",
    "    equipment_type = maintenance_log['equipment_type']\n",
    "    equipment_name = maintenance_log['equipment_name']\n",
    "    last_service_date = datetime.strptime(maintenance_log['timestamp'].split()[0], \"%Y-%m-%d\")\n",
    "    installation_date = datetime.strptime(maintenance_log['installation_date'], \"%Y-%m-%d\")\n",
    "\n",
    "    lifespan = equipment_types[equipment_type]['lifespan']\n",
    "    maintenance_interval = equipment_types[equipment_type]['maintenance_interval']\n",
    "\n",
    "    if question_type == 'action':\n",
    "        instruction = f\"What maintenance action was performed on the {equipment_name} on {last_service_date.strftime('%Y-%m-%d')}?\"\n",
    "        response = f\"On {last_service_date.strftime('%Y-%m-%d')}, a {maintenance_log['maintenance_type'].lower()} was performed on the {equipment_name}, where {maintenance_log['action_taken'].lower()}.\"\n",
    "    \n",
    "    elif question_type == 'next_maintenance':\n",
    "        next_maintenance_date = last_service_date + timedelta(days=maintenance_interval)\n",
    "        instruction = f\"When is the next maintenance due for {equipment_name}?\"\n",
    "        response = f\"The next maintenance for {equipment_name} is due on {next_maintenance_date.strftime('%Y-%m-%d')} based on the last service date of {last_service_date.strftime('%Y-%m-%d')} and a maintenance interval of {maintenance_interval} days.\"\n",
    "\n",
    "    elif question_type == 'maintenance_type':\n",
    "        instruction = f\"What kind of maintenance is needed for {equipment_name}?\"\n",
    "        if maintenance_log['equipment_status'] == 'Operational':\n",
    "            response = f\"The {equipment_name} is currently operational. Routine maintenance is recommended to ensure optimal performance.\"\n",
    "        elif maintenance_log['equipment_status'] == 'Needs Maintenance':\n",
    "            response = f\"The {equipment_name} needs maintenance. A thorough inspection and necessary repairs should be performed.\"\n",
    "        else:  # 'Under Repair'\n",
    "            response = f\"The {equipment_name} is under repair. Once repairs are complete, a full inspection should be conducted.\"\n",
    "\n",
    "    elif question_type == 'lifespan':\n",
    "        age = (last_service_date - installation_date).days / 365.25  # age in years\n",
    "        remaining_life = lifespan - age\n",
    "        instruction = f\"How much longer can {equipment_name} be expected to operate based on its lifespan?\"\n",
    "        if remaining_life > 0:\n",
    "            response = f\"The {equipment_name} has been in operation for about {age:.1f} years. It can be expected to operate for another {remaining_life:.1f} years, assuming proper maintenance.\"\n",
    "        else:\n",
    "            response = f\"The {equipment_name} has exceeded its typical lifespan of {lifespan} years. It's recommended to plan for replacement soon.\"\n",
    "\n",
    "    # Generating context and conversation flow\n",
    "    context = (f\"Hi there! I see that maintenance was performed on the {equipment_name}. \"\n",
    "               f\"What can I assist you with regarding its status today?\\n\"\n",
    "               f\"Hi! I’m checking on the status of the {equipment_name}. Is everything functioning properly?\\n\"\n",
    "               f\"{response}\\n\"\n",
    "               f\"Thanks! When is the next maintenance due?\\n\"\n",
    "               f\"{response}\\n\"\n",
    "               f\"What type of maintenance do we need for it?\\n\"\n",
    "               f\"{response}\\n\"\n",
    "               f\"How much longer can we expect it to operate?\\n\"\n",
    "               f\"{response}\\n\"\n",
    "               f\"If you need anything else, just ask! Have a great day!\")\n",
    "\n",
    "    category = \"closed_qa\"\n",
    "\n",
    "    return {\n",
    "        \"instruction\": instruction,\n",
    "        \"context\": context,\n",
    "        \"response\": response,\n",
    "        \"category\": category\n",
    "    }\n"
   ]
  },
  {
   "cell_type": "code",
   "execution_count": 29,
   "metadata": {
    "id": "dtejm8impMbD"
   },
   "outputs": [],
   "source": [
    "def generate_fine_tuning_data(num_equipment, start_date, end_date, target_observations):\n",
    "    '''\n",
    "    This function generates fine-tuning data for the model.\n",
    "    It follows the actual format that was used.\n",
    "    '''\n",
    "    maintenance_logs, total_observations = generate_data(num_equipment, start_date, end_date, target_observations)\n",
    "\n",
    "    # Convert to numpy array for shuffling\n",
    "    maintenance_logs_array = np.array(maintenance_logs)\n",
    "\n",
    "    # Shuffle the array\n",
    "    np.random.shuffle(maintenance_logs_array)\n",
    "\n",
    "    # Convert back to list\n",
    "    shuffled_maintenance_logs = maintenance_logs_array.tolist()\n",
    "\n",
    "    fine_tuning_data = [create_fine_tuning_entry(log) for log in shuffled_maintenance_logs]\n",
    "    return fine_tuning_data, total_observations"
   ]
  },
  {
   "cell_type": "code",
   "execution_count": 30,
   "metadata": {},
   "outputs": [
    {
     "name": "stdout",
     "output_type": "stream",
     "text": [
      "Total observations generated: 645157\n",
      "Fine-tuning data saved to: C:\\Users\\yomid\\OneDrive - Case Western Reserve University\\Desktop\\KaggleX\\Stormwater_Data_updated\\fine_tuning_data.json\n"
     ]
    }
   ],
   "source": [
    "# Usage\n",
    "num_equipment = 1000\n",
    "start_date = datetime(1700, 1, 1)\n",
    "end_date = datetime(2023, 12, 31)\n",
    "target_observations = 1000000\n",
    "\n",
    "fine_tuning_data, total_observations = generate_fine_tuning_data(num_equipment, start_date, end_date, target_observations)\n",
    "\n",
    "print(f\"Total observations generated: {total_observations}\")\n",
    "\n",
    "# Save the fine-tuning data\n",
    "with open(os.path.join(folder_path, 'fine_tuning_data.json'), 'w') as f:\n",
    "    json.dump(fine_tuning_data, f, indent=2)\n",
    "    \n",
    "\n",
    "\n",
    "print(f\"Fine-tuning data saved to: {os.path.join(folder_path, 'fine_tuning_data.json')}\")"
   ]
  },
  {
   "cell_type": "code",
   "execution_count": 24,
   "metadata": {},
   "outputs": [],
   "source": [
    "import json\n",
    "import csv\n",
    "import os\n",
    "\n",
    "# Writing to JSON\n",
    "with open(os.path.join(folder_path, 'fine_tuning_data.json'), 'w') as f:\n",
    "    json.dump(fine_tuning_data, f, indent=2)\n",
    "\n",
    "# Writing to CSV (assuming fine_tuning_data is a list of dictionaries)\n",
    "with open(os.path.join(folder_path, 'fine_tuning_data.csv'), 'w', newline='') as f:\n",
    "    if fine_tuning_data:\n",
    "        writer = csv.DictWriter(f, fieldnames=fine_tuning_data[0].keys())\n",
    "        writer.writeheader()\n",
    "        writer.writerows(fine_tuning_data)"
   ]
  },
  {
   "cell_type": "code",
   "execution_count": 25,
   "metadata": {
    "colab": {
     "base_uri": "https://localhost:8080/"
    },
    "id": "QGyGAz8hdv8I",
    "outputId": "477067e9-a4ce-4631-d26c-8a31824c08a5"
   },
   "outputs": [
    {
     "name": "stdout",
     "output_type": "stream",
     "text": [
      "[\n",
      "  {\n",
      "    \"instruction\": \"What maintenance action was performed on the Flashlights-724675 on 1987-05-23?\",\n",
      "    \"context\": \"Chatbot: Hi there! I see that maintenance was performed on the Flashlights-724675. What can I assist you with regarding its status today?\\nTechnician: Hi! I\\u2019m checking on the status of the Flashlights-724675. Is everything functioning properly?\\nChatbot: On 1987-05-23, a monitoring was performed on the Flashlights-724675, where calibrating flow meters periodically to ensure precise water flow measurements..\\nTechnician: Thanks! When is the next maintenance due?\\nChatbot: On 1987-05-23, a monitoring was performed on the Flashlights-724675, where calibrating flow meters periodically to ensure precise water flow measurements..\\nTechnician: What type of maintenance do we need for it?\\nChatbot: On 1987-05-23, a monitoring was performed on the Flashlights-724675, where calibrating flow meters periodically to ensure precise water flow measurements..\\nTechnician: How much longer can we expect it to operate?\\nChatbot: On 1987-05-23, a monitoring was performed on the Flashlights-724675, where calibrating flow meters periodically to ensure precise water flow measurements..\\nChatbot: If you need anything else, just ask! Have a great day!\",\n",
      "    \"response\": \"On 1987-05-23, a monitoring was performed on the Flashlights-724675, where calibrating flow meters periodically to ensure precise water flow measurements..\",\n",
      "    \"category\": \"closed_qa\"\n",
      "  },\n",
      "  {\n",
      "    \"instruction\": \"What kind of maintenance is needed for Drones-798596?\",\n",
      "    \"context\": \"Chatbot: Hi there! I see that maintenance was performed on the Drones-798596. What can I assist you with regarding its status today?\\nTechnician: Hi! I\\u2019m checking on the status of the Drones-798596. Is everything functioning properly?\\nChatbot: The Drones-798596 is currently operational. Routine maintenance is recommended to ensure optimal performance.\\nTechnician: Thanks! When is the next maintenance due?\\nChatbot: The Drones-798596 is currently operational. Routine maintenance is recommended to ensure optimal performance.\\nTechnician: What type of maintenance do we need for it?\\nChatbot: The Drones-798596 is currently operational. Routine maintenance is recommended to ensure optimal performance.\\nTechnician: How much longer can we expect it to operate?\\nChatbot: The Drones-798596 is currently operational. Routine maintenance is recommended to ensure optimal performance.\\nChatbot: If you need anything else, just ask! Have a great day!\",\n",
      "    \"response\": \"The Drones-798596 is currently operational. Routine maintenance is recommended to ensure optimal performance.\",\n",
      "    \"category\": \"closed_qa\"\n",
      "  },\n",
      "  {\n",
      "    \"instruction\": \"What kind of maintenance is needed for Sediment Pumps-211575?\",\n",
      "    \"context\": \"Chatbot: Hi there! I see that maintenance was performed on the Sediment Pumps-211575. What can I assist you with regarding its status today?\\nTechnician: Hi! I\\u2019m checking on the status of the Sediment Pumps-211575. Is everything functioning properly?\\nChatbot: The Sediment Pumps-211575 is currently operational. Routine maintenance is recommended to ensure optimal performance.\\nTechnician: Thanks! When is the next maintenance due?\\nChatbot: The Sediment Pumps-211575 is currently operational. Routine maintenance is recommended to ensure optimal performance.\\nTechnician: What type of maintenance do we need for it?\\nChatbot: The Sediment Pumps-211575 is currently operational. Routine maintenance is recommended to ensure optimal performance.\\nTechnician: How much longer can we expect it to operate?\\nChatbot: The Sediment Pumps-211575 is currently operational. Routine maintenance is recommended to ensure optimal performance.\\nChatbot: If you need anything else, just ask! Have a great day!\",\n",
      "    \"response\": \"The Sediment Pumps-211575 is currently operational. Routine maintenance is recommended to ensure optimal performance.\",\n",
      "    \"category\": \"closed_qa\"\n",
      "  },\n",
      "  {\n",
      "    \"instruction\": \"How much longer can Emergency Response Kits-367306 be expected to operate based on its lifespan?\",\n",
      "    \"context\": \"Chatbot: Hi there! I see that maintenance was performed on the Emergency Response Kits-367306. What can I assist you with regarding its status today?\\nTechnician: Hi! I\\u2019m checking on the status of the Emergency Response Kits-367306. Is everything functioning properly?\\nChatbot: The Emergency Response Kits-367306 has been in operation for about -153.8 years. It can be expected to operate for another 158.8 years, assuming proper maintenance.\\nTechnician: Thanks! When is the next maintenance due?\\nChatbot: The Emergency Response Kits-367306 has been in operation for about -153.8 years. It can be expected to operate for another 158.8 years, assuming proper maintenance.\\nTechnician: What type of maintenance do we need for it?\\nChatbot: The Emergency Response Kits-367306 has been in operation for about -153.8 years. It can be expected to operate for another 158.8 years, assuming proper maintenance.\\nTechnician: How much longer can we expect it to operate?\\nChatbot: The Emergency Response Kits-367306 has been in operation for about -153.8 years. It can be expected to operate for another 158.8 years, assuming proper maintenance.\\nChatbot: If you need anything else, just ask! Have a great day!\",\n",
      "    \"response\": \"The Emergency Response Kits-367306 has been in operation for about -153.8 years. It can be expected to operate for another 158.8 years, assuming proper maintenance.\",\n",
      "    \"category\": \"closed_qa\"\n",
      "  },\n",
      "  {\n",
      "    \"instruction\": \"What kind of maintenance is needed for Flow Meters-758194?\",\n",
      "    \"context\": \"Chatbot: Hi there! I see that maintenance was performed on the Flow Meters-758194. What can I assist you with regarding its status today?\\nTechnician: Hi! I\\u2019m checking on the status of the Flow Meters-758194. Is everything functioning properly?\\nChatbot: The Flow Meters-758194 is currently operational. Routine maintenance is recommended to ensure optimal performance.\\nTechnician: Thanks! When is the next maintenance due?\\nChatbot: The Flow Meters-758194 is currently operational. Routine maintenance is recommended to ensure optimal performance.\\nTechnician: What type of maintenance do we need for it?\\nChatbot: The Flow Meters-758194 is currently operational. Routine maintenance is recommended to ensure optimal performance.\\nTechnician: How much longer can we expect it to operate?\\nChatbot: The Flow Meters-758194 is currently operational. Routine maintenance is recommended to ensure optimal performance.\\nChatbot: If you need anything else, just ask! Have a great day!\",\n",
      "    \"response\": \"The Flow Meters-758194 is currently operational. Routine maintenance is recommended to ensure optimal performance.\",\n",
      "    \"category\": \"closed_qa\"\n",
      "  }\n",
      "]\n"
     ]
    }
   ],
   "source": [
    "file_path = os.path.join(folder_path, 'fine_tuning_data.json')\n",
    "with open(file_path, 'r') as f:\n",
    "    data = json.load(f)\n",
    "\n",
    "print(json.dumps(data[:5], indent=2))"
   ]
  },
  {
   "cell_type": "code",
   "execution_count": 26,
   "metadata": {
    "colab": {
     "base_uri": "https://localhost:8080/"
    },
    "id": "dp3Aqx0EjimF",
    "outputId": "dde68fe1-8755-4d0c-d67f-f04e17851e38"
   },
   "outputs": [
    {
     "name": "stdout",
     "output_type": "stream",
     "text": [
      "\n",
      "Structure of a single item:\n",
      "{\n",
      "  \"instruction\": \"str\",\n",
      "  \"context\": \"str\",\n",
      "  \"response\": \"str\",\n",
      "  \"category\": \"str\"\n",
      "}\n"
     ]
    }
   ],
   "source": [
    "# # Alternatively, if you want to print just the structure without all the data:\n",
    "print(\"\\nStructure of a single item:\")\n",
    "print(json.dumps({k: type(v).__name__ for k, v in data[0].items()}, indent=2))"
   ]
  },
  {
   "cell_type": "code",
   "execution_count": null,
   "metadata": {},
   "outputs": [],
   "source": [
    "pwd()"
   ]
  }
 ],
 "metadata": {
  "colab": {
   "provenance": []
  },
  "kernelspec": {
   "display_name": "Python 3 (ipykernel)",
   "language": "python",
   "name": "python3"
  },
  "language_info": {
   "codemirror_mode": {
    "name": "ipython",
    "version": 3
   },
   "file_extension": ".py",
   "mimetype": "text/x-python",
   "name": "python",
   "nbconvert_exporter": "python",
   "pygments_lexer": "ipython3",
   "version": "3.11.5"
  }
 },
 "nbformat": 4,
 "nbformat_minor": 1
}
